{
  "nbformat": 4,
  "nbformat_minor": 0,
  "metadata": {
    "colab": {
      "provenance": [],
      "include_colab_link": true
    },
    "kernelspec": {
      "name": "python3",
      "display_name": "Python 3"
    },
    "language_info": {
      "name": "python"
    }
  },
  "cells": [
    {
      "cell_type": "markdown",
      "metadata": {
        "id": "view-in-github",
        "colab_type": "text"
      },
      "source": [
        "<a href=\"https://colab.research.google.com/github/valesaiz/Python-for-Data-Science-practice-/blob/main/Alura_Desaf%C3%ADo_2.ipynb\" target=\"_parent\"><img src=\"https://colab.research.google.com/assets/colab-badge.svg\" alt=\"Open In Colab\"/></a>"
      ]
    },
    {
      "cell_type": "markdown",
      "source": [
        "#**Estructuras condicionales**\n",
        "\n",
        "###**Entrenando**\n",
        "\n",
        "1 - Escribe un programa que pida a la persona usuaria que proporcione dos números y muestre el número más grande.\n",
        "\n",
        "2 - Escribe un programa que solicite el porcentaje de crecimiento de producción de una empresa e informe si hubo un crecimiento (porcentaje positivo) o una disminución (porcentaje negativo).\n",
        "\n",
        "3 - Escribe un programa que determine si una letra proporcionada por la persona usuaria es una vocal o una consonante.\n",
        "\n",
        "4 - Escribe un programa que lea valores promedio de precios de un modelo de automóvil durante 3 años consecutivos y muestre el valor más alto y más bajo entre esos tres años.\n",
        "\n",
        "5 - Escribe un programa que pregunte sobre el precio de tres productos e indique cuál es el producto más barato para comprar.\n",
        "\n",
        "6 - Escribe un programa que lea tres números y los muestre en orden descendente.\n",
        "\n",
        "7 -Escribe un programa que pregunte en qué turno estudia la persona usuaria (\"mañana\", \"tarde\" o \"noche\") y muestre el mensaje \"¡Buenos Días!\", \"¡Buenas Tardes!\", \"¡Buenas Noches!\" o \"Valor Inválido!\", según el caso.\n",
        "\n",
        "8 - Escribe un programa que solicite un número entero a la persona usuaria y determine si es par o impar. Pista: Puedes usar el operador módulo (%).\n",
        "\n",
        "9 - Escribe un programa que pida un número a la persona usuaria y le informe si es entero o decimal.\n",
        "\n",
        "###**Momento de los proyectos**\n",
        "\n",
        "10 - Un programa debe ser escrito para leer dos números y luego preguntar a la persona usuaria qué operación desea realizar. El resultado de la operación debe incluir información sobre el número, si es par o impar, positivo o negativo, e entero o decimal.\n",
        "\n",
        "11 - Escribe un programa que pida a la persona usuaria tres números que representan los lados de un triángulo. El programa debe informar si los valores pueden utilizarse para formar un triángulo y, en caso afirmativo, si es equilátero, isósceles o escaleno. Ten en cuenta algunas sugerencias:\n",
        "\n",
        "Tres lados forman un triángulo cuando la suma de cualesquiera dos lados es mayor que el tercero;\n",
        "Triángulo Equilátero: tres lados iguales;\n",
        "Triángulo Isósceles: dos lados iguales;\n",
        "Triángulo Escaleno: tres lados diferentes.\n",
        "\n",
        "12 - Un establecimiento está vendiendo combustibles con descuentos variables. Para el etanol, si la cantidad comprada es de hasta 15 litros, el descuento será del 2% por litro. En caso contrario, será del 4% por litro. Para el diésel, si la cantidad comprada es de hasta 15 litros, el descuento será del 3% por litro. En caso contrario, será del 5% por litro. El precio por litro de diésel es de R$ 2,00 y el precio por litro de etanol es de R$ 1,70. Escribe un programa que lea la cantidad de litros vendidos y el tipo de combustible (E para etanol y D para diésel) y calcule el valor a pagar por el cliente. Ten en cuenta algunas sugerencias:\n",
        "\n",
        "El valor del descuento será el producto del precio por litro, la cantidad de litros y el valor del descuento.\n",
        "El valor a pagar por un cliente será el resultado de la multiplicación del precio por litro por la cantidad de litros menos el valor del descuento resultante del cálculo.\n",
        "\n",
        "13 - En una empresa de venta de bienes raíces, debes crear un código que analice los datos de ventas anuales para ayudar a la dirección en la toma de decisiones. El código debe recopilar los datos de cantidad de ventas durante los años 2022 y 2023 y calcular la variación porcentual. A partir del valor de la variación, se deben proporcionar las siguientes sugerencias:\n",
        "\n",
        "Para una variación superior al 20%: bonificación para el equipo de ventas.\n",
        "Para una variación entre el 2% y el 20%: pequeña bonificación para el equipo de ventas.\n",
        "Para una variación entre el 2% y el -10%: planificación de políticas de incentivo a las ventas.\n",
        "Para bonificaciones inferiores al -10%: recorte de gastos.\n"
      ],
      "metadata": {
        "id": "CjHsoK46iUFu"
      }
    },
    {
      "cell_type": "code",
      "source": [
        "#1 - Escribe un programa que pida a la persona usuaria que proporcione dos números y muestre el número más grande.\n",
        "\n",
        "numero1 = float(input(\"Ingrese el primer número: \"))\n",
        "numero2 = float(input(\"Ingrese el segundo número: \"))\n",
        "\n",
        "if numero1 > numero2:\n",
        "  print(\"El número más grande es: \", numero1)\n",
        "elif numero2 > numero1:\n",
        "  print(\"El número más grande es: \", numero2)\n",
        "else:\n",
        "  print(\"Los números son iguales\")"
      ],
      "metadata": {
        "id": "efKVa07U7ey-",
        "colab": {
          "base_uri": "https://localhost:8080/"
        },
        "outputId": "8a53df66-af8e-4293-f9bf-607d5b9611cb"
      },
      "execution_count": 18,
      "outputs": [
        {
          "output_type": "stream",
          "name": "stdout",
          "text": [
            "Ingrese el primer número: 5\n",
            "Ingrese el segundo número: 5.0\n",
            "Los números son iguales\n"
          ]
        }
      ]
    },
    {
      "cell_type": "code",
      "source": [
        "#2 - Escribe un programa que solicite el porcentaje de crecimiento de producción de una empresa e informe si hubo un crecimiento\n",
        "# (porcentaje positivo) o una disminución (porcentaje negativo).\n",
        "\n",
        "porcentaje_crecimiento = float(input(\"Ingrese el porcentaje de crecimiento de la producción: \"))\n",
        "\n",
        "if porcentaje_crecimiento > 0:\n",
        "  print(\"Hubo un crecimiento de \", porcentaje_crecimiento, \"%\")\n",
        "elif porcentaje_crecimiento < 0:\n",
        "  print(\"Hubo una disminución de \", porcentaje_crecimiento, \"%\")\n",
        "else:\n",
        "  print(\"No hubo crecimiento ni disminución\")"
      ],
      "metadata": {
        "colab": {
          "base_uri": "https://localhost:8080/"
        },
        "id": "Euv40yOZ7qBS",
        "outputId": "66583aa6-caa7-4196-deb3-92649ae35b0a"
      },
      "execution_count": 20,
      "outputs": [
        {
          "output_type": "stream",
          "name": "stdout",
          "text": [
            "Ingrese el porcentaje de crecimiento de la producción: 0\n",
            "No hubo crecimiento ni disminución\n"
          ]
        }
      ]
    },
    {
      "cell_type": "code",
      "source": [
        "#3 - Escribe un programa que determine si una letra proporcionada por la persona usuaria es una vocal o una consonante.\n",
        "\n",
        "vocales = 'aeiou'\n",
        "letra = input(\"Ingrese una letra: \").lower()\n",
        "\n",
        "if letra in vocales:\n",
        "  print(f\"La letra {letra} es una vocal\")\n",
        "else:\n",
        "  print(f\"La letra {letra} es una consonante\")\n"
      ],
      "metadata": {
        "colab": {
          "base_uri": "https://localhost:8080/"
        },
        "id": "BJetO6eO8HE9",
        "outputId": "a37c0511-368b-4278-b560-1e2f76893abd"
      },
      "execution_count": 22,
      "outputs": [
        {
          "output_type": "stream",
          "name": "stdout",
          "text": [
            "Ingrese una letra: i\n",
            "La letra i es una vocal\n"
          ]
        }
      ]
    },
    {
      "cell_type": "code",
      "source": [
        "#4 - Escribe un programa que lea valores promedio de precios de un modelo de automóvil durante 3 años consecutivos\n",
        "# y muestre el valor más alto y más bajo entre esos tres años.\n",
        "\n",
        "precio1 = float(input(\"Ingrese el precio del automóvil en el primer año: \"))\n",
        "precio2 = float(input(\"Ingrese el precio del automóvil en el segundo año: \"))\n",
        "precio3 = float(input(\"Ingrese el precio del automóvil en el tercer año: \"))\n",
        "\n",
        "mayor = precio1\n",
        "if precio2 > mayor:\n",
        "  mayor = precio2\n",
        "if precio3 > mayor:\n",
        "  mayor = precio3\n",
        "\n",
        "menor = precio1\n",
        "if precio2 < menor:\n",
        "  menor = precio2\n",
        "if precio3 < menor:\n",
        "  menor = precio3\n",
        "\n",
        "print(f\"El precio más alto fue $ {mayor} y el más bajo fue # {menor}\")"
      ],
      "metadata": {
        "colab": {
          "base_uri": "https://localhost:8080/"
        },
        "id": "z5IZd-Ht879P",
        "outputId": "c89b0a7c-1c43-417b-db05-82f03f747cbe"
      },
      "execution_count": 25,
      "outputs": [
        {
          "output_type": "stream",
          "name": "stdout",
          "text": [
            "Ingrese el precio del automóvil en el primer año: 567\n",
            "Ingrese el precio del automóvil en el segundo año: 4\n",
            "Ingrese el precio del automóvil en el tercer año: 70555\n",
            "El precio más alto fue $ 70555.0 y el más bajo fue # 4.0\n"
          ]
        }
      ]
    },
    {
      "cell_type": "code",
      "source": [
        "# 5 - Escribe un programa que pregunte sobre el precio de tres productos e indique cuál es el producto más barato para comprar.\n",
        "\n",
        "precio1 = float(input(\"Ingrese el precio del primer producto: \"))\n",
        "precio2 = float(input(\"Ingrese el precio del segundo producto: \"))\n",
        "precio3 = float(input(\"Ingrese el precio del tercer producto: \"))\n",
        "\n",
        "if precio1 < precio2 and precio1 < precio3:\n",
        "  print(f\"El precio más bajo es el del producto 1 que cuesta $ {precio1}\")\n",
        "elif precio2 < precio1 and precio2 < precio3:\n",
        "  print(f\"El precio más bajo es el del producto 2 que cuesta $ {precio2}\")\n",
        "else:\n",
        "  print(f\"El precio más bajo es el del producto 3 que cuesta $ {precio3}\")"
      ],
      "metadata": {
        "colab": {
          "base_uri": "https://localhost:8080/"
        },
        "id": "QQYA8bxeFk_z",
        "outputId": "04478e49-f777-434f-d4ab-c61ce9bd5385"
      },
      "execution_count": 4,
      "outputs": [
        {
          "output_type": "stream",
          "name": "stdout",
          "text": [
            "Ingrese el precio del primer producto: 3\n",
            "Ingrese el precio del segundo producto: 54.5\n",
            "Ingrese el precio del tercer producto: 608\n",
            "El precio más bajo es el del producto 1 que cuesta $ 3.0\n"
          ]
        }
      ]
    },
    {
      "cell_type": "code",
      "source": [
        "#6 - Escribe un programa que lea tres números y los muestre en orden descendente.\n",
        "\n",
        "numero1 = float(input(\"Ingrese el primer número: \"))\n",
        "numero2 = float(input(\"Ingrese el segundo número: \"))\n",
        "numero3 = float(input(\"Ingrese el tercer número: \"))\n",
        "\n",
        "if numero1 < numero2 and numero1 < numero3:\n",
        "  menor = numero1\n",
        "  if numero2 < numero3:\n",
        "    medio = numero2\n",
        "    mayor = numero3\n",
        "  else:\n",
        "    medio = numero3\n",
        "    mayor = numero2\n",
        "\n",
        "elif numero2 < numero1 and numero2 < numero3:\n",
        "  menor = numero2\n",
        "  if numero1 < numero3:\n",
        "    medio = numero1\n",
        "    mayor = numero3\n",
        "  else:\n",
        "    medio = numero3\n",
        "    mayor = numero1\n",
        "else:\n",
        "  menor = numero3\n",
        "  if numero1 < numero2:\n",
        "    medio = numero1\n",
        "    mayor = numero2\n",
        "  else:\n",
        "    medio = numero2\n",
        "    mayor = numero1\n",
        "\n",
        "print(f\"El orden descendente es: {mayor}, {medio}, {menor}\")"
      ],
      "metadata": {
        "colab": {
          "base_uri": "https://localhost:8080/"
        },
        "id": "WPn7gu-NHMi0",
        "outputId": "e45acc8d-e2df-4a95-f993-ef68b9233421"
      },
      "execution_count": 7,
      "outputs": [
        {
          "output_type": "stream",
          "name": "stdout",
          "text": [
            "Ingrese el primer número: 4\n",
            "Ingrese el segundo número: 10\n",
            "Ingrese el tercer número: 1\n",
            "El orden descendente es: 10.0, 4.0, 1.0\n"
          ]
        }
      ]
    },
    {
      "cell_type": "code",
      "source": [
        "#7 -Escribe un programa que pregunte en qué turno estudia la persona usuaria (\"mañana\", \"tarde\" o \"noche\")\n",
        "# y muestre el mensaje \"¡Buenos Días!\", \"¡Buenas Tardes!\", \"¡Buenas Noches!\" o \"Valor Inválido!\", según el caso.\n",
        "\n",
        "turno = input(\"¿En qué turno estudias? (mañana, tarde o noche): \").lower()\n",
        "\n",
        "if turno == \"mañana\":\n",
        "  print(\"¡Buenos días!\")\n",
        "elif turno == \"tarde\":\n",
        "  print(\"¡Buenas tardes!\")\n",
        "elif turno == \"noche\":\n",
        "  print(\"¡Buenas noches!\")\n",
        "else:\n",
        "  print(\"Valor inválido\")"
      ],
      "metadata": {
        "colab": {
          "base_uri": "https://localhost:8080/"
        },
        "id": "ljB7qL-8KHqX",
        "outputId": "c8065078-2145-411b-ae94-0051435086ad"
      },
      "execution_count": 15,
      "outputs": [
        {
          "output_type": "stream",
          "name": "stdout",
          "text": [
            "¿En qué turno estudias? (mañana, tarde o noche): MAÑANA\n",
            "¡Buenos días!\n"
          ]
        }
      ]
    },
    {
      "cell_type": "code",
      "source": [
        "#8 - Escribe un programa que solicite un número entero a la persona usuaria y determine si es par o impar.\n",
        "# Pista: Puedes usar el operador módulo (%).\n",
        "\n",
        "numero = int(input(\"Ingrese un número entero: \"))\n",
        "\n",
        "if numero % 2 == 0:\n",
        "  print(f\"El número {numero} es par\")\n",
        "else:\n",
        "  print(f\"El número {numero} es impar\")\n"
      ],
      "metadata": {
        "colab": {
          "base_uri": "https://localhost:8080/"
        },
        "id": "LDUWbd-eKIXV",
        "outputId": "4ca39a87-a2fa-4099-dea3-a42fcd25f1f5"
      },
      "execution_count": 19,
      "outputs": [
        {
          "output_type": "stream",
          "name": "stdout",
          "text": [
            "Ingrese un número entero: 13\n",
            "El número 13 es impar\n"
          ]
        }
      ]
    },
    {
      "cell_type": "code",
      "source": [
        "#9 - Escribe un programa que pida un número a la persona usuaria y le informe si es entero o decimal.\n",
        "\n",
        "numero = float(input(\"Ingrese un número: \"))\n",
        "\n",
        "if numero % 1 == 0:\n",
        "  print(f\"El número {numero} es entero\")\n",
        "else:\n",
        "  print(f\"El número {numero} es decimal\")"
      ],
      "metadata": {
        "colab": {
          "base_uri": "https://localhost:8080/"
        },
        "id": "xvsgjJk8KLBX",
        "outputId": "e673d502-588d-45e2-be2f-8508a55d0598"
      },
      "execution_count": 24,
      "outputs": [
        {
          "output_type": "stream",
          "name": "stdout",
          "text": [
            "Ingrese un número: 0.5\n",
            "El número 0.5 es decimal\n"
          ]
        }
      ]
    },
    {
      "cell_type": "markdown",
      "source": [
        "10 - Un programa debe ser escrito para leer dos números y luego preguntar a la persona usuaria qué operación desea realizar. El resultado de la operación debe incluir información sobre el número, si es par o impar, positivo o negativo, y entero o decimal."
      ],
      "metadata": {
        "id": "Ip5mi6-XMCgI"
      }
    },
    {
      "cell_type": "markdown",
      "source": [],
      "metadata": {
        "id": "gEdMxkTJL_lF"
      }
    },
    {
      "cell_type": "code",
      "source": [
        "num1 = float(input(\"Ingrese el primer número: \"))\n",
        "num2 = float(input(\"Ingrese el segundo número: \"))\n",
        "operacion = input(\"¿Qué operación desea realizar? (+, -, *, /): \")\n",
        "\n",
        "if operacion == \"+\":\n",
        "  resultado = num1 + num2\n",
        "\n",
        "elif operacion == \"-\":\n",
        "  resultado = num1 - num2\n",
        "\n",
        "elif operacion == \"*\":\n",
        "  resultado = num1 * num2\n",
        "\n",
        "elif operacion == \"/\":\n",
        "  resultado = num1 / num2\n",
        "\n",
        "else:\n",
        "  print(\"Operación inválida\")\n",
        "\n",
        "print (f\"El resultado de la operación es: {resultado}\")\n",
        "\n",
        "if resultado % 2 == 0:\n",
        "  print(\"El resultado es un número par\")\n",
        "else:\n",
        "   print(\"El resultado es un número impar\")\n",
        "\n",
        "if resultado % 1 == 0:\n",
        "  print(\"El resultado es un número entero\")\n",
        "else:\n",
        "    print(\"El resultado es un número decimal\")\n",
        "\n",
        "if resultado > 0:\n",
        "  print(\"El resultado es un número positivo\")\n",
        "elif resultado < 0:\n",
        "  print(\"El resultado es un número negativo\")\n",
        "else:\n",
        "  print(\"El resultado es cero\")\n"
      ],
      "metadata": {
        "colab": {
          "base_uri": "https://localhost:8080/"
        },
        "id": "QN7-8hgML7Qt",
        "outputId": "86a77ebd-933f-4450-b19d-b762d2268f77"
      },
      "execution_count": 31,
      "outputs": [
        {
          "output_type": "stream",
          "name": "stdout",
          "text": [
            "Ingrese el primer número: -3\n",
            "Ingrese el segundo número: -5.5\n",
            "¿Qué operación desea realizar? (+, -, *, /): *\n",
            "El resultado de la operación es: 16.5\n",
            "El resultado es un número impar\n",
            "El resultado es un número decimal\n",
            "El resultado es un número positivo\n"
          ]
        }
      ]
    },
    {
      "cell_type": "markdown",
      "source": [
        "11 - Escribe un programa que pida a la persona usuaria tres números que representan los lados de un triángulo. El programa debe informar si los valores pueden utilizarse para formar un triángulo y, en caso afirmativo, si es equilátero, isósceles o escaleno. Ten en cuenta algunas sugerencias:\n",
        "\n",
        "Tres lados forman un triángulo cuando la suma de cualesquiera dos lados es mayor que el tercero; Triángulo Equilátero: tres lados iguales; Triángulo Isósceles: dos lados iguales; Triángulo Escaleno: tres lados diferentes."
      ],
      "metadata": {
        "id": "og3Zqt_fOIEx"
      }
    },
    {
      "cell_type": "code",
      "source": [
        "lado1 = float(input(\"Ingrese el primer lado del triángulo: \"))\n",
        "lado2 = float(input(\"Ingrese el segundo lado del triángulo: \"))\n",
        "lado3 = float(input(\"Ingrese el tercer lado del triángulo: \"))\n",
        "\n",
        "if lado1 + lado2 > lado3 and lado1 + lado3 > lado2 and lado2 + lado3 > lado1:\n",
        "  print(\"Los lados ingresados pueden formar un triángulo\")\n",
        "  if lado1 == lado2 == lado3:\n",
        "    print(\"El triángulo es equilátero\")\n",
        "  elif lado1 == lado2 or lado1 == lado3 or lado2 == lado3:\n",
        "    print(\"El triángulo es isósceles\")\n",
        "  else:\n",
        "    print(\"El triángulo es escaleno\")\n",
        "else:\n",
        "  print(\"Los lados ingresados no pueden formar un triángulo\")"
      ],
      "metadata": {
        "colab": {
          "base_uri": "https://localhost:8080/"
        },
        "id": "WfWGZ1S6OJko",
        "outputId": "34643dc1-3777-4e06-fed6-e75dba7ae8f5"
      },
      "execution_count": 40,
      "outputs": [
        {
          "output_type": "stream",
          "name": "stdout",
          "text": [
            "Ingrese el primer lado del triángulo: 2\n",
            "Ingrese el segundo lado del triángulo: 2\n",
            "Ingrese el tercer lado del triángulo: 8\n",
            "Los lados ingresados no pueden formar un triángulo\n"
          ]
        }
      ]
    },
    {
      "cell_type": "markdown",
      "source": [
        "12 - Un establecimiento está vendiendo combustibles con descuentos variables.\n",
        "Para el etanol, si la cantidad comprada es de hasta 15 litros, el descuento será del 2% por litro. En caso contrario, será del 4% por litro.\n",
        "Para el diésel, si la cantidad comprada es de hasta 15 litros, el descuento será del 3% por litro. En caso contrario, será del 5% por litro.\n",
        "El precio por litro de diésel es de R 2,00 y el precio por litro de etanol es de R 1,70.\n",
        "\n",
        "Escribe un programa que lea la cantidad de litros vendidos y el tipo de combustible (E para etanol y D para diésel) y calcule el valor a pagar por el cliente. Ten en cuenta algunas sugerencias:\n",
        "\n",
        "El valor del descuento será el producto del precio por litro, la cantidad de litros y el valor del descuento. El valor a pagar por un cliente será el resultado de la multiplicación del precio por litro por la cantidad de litros menos el valor del descuento resultante del cálculo.\n",
        "\n"
      ],
      "metadata": {
        "id": "Fjcahf4_PYsV"
      }
    },
    {
      "cell_type": "markdown",
      "source": [],
      "metadata": {
        "id": "UNOsLp5b7uu8"
      }
    },
    {
      "cell_type": "code",
      "source": [
        "combustible = input('Indique el combustible que desea cargar (D o E): ')\n",
        "litros = float(input('Indique la cantidad de litros: '))\n",
        "\n",
        "if combustible == 'D':\n",
        "  precio = 2.00\n",
        "elif combustible == 'E':\n",
        "  precio = 1.70\n",
        "else:\n",
        "  print('Combustible inválido')\n",
        "  precio = 0\n",
        "\n",
        "if combustible == 'E' and litros <= 15:\n",
        "  descuento = 0.02\n",
        "else:\n",
        "  descuento = 0.04\n",
        "\n",
        "if combustible == 'D' and litros <= 15:\n",
        "  descuento = 0.03\n",
        "else:\n",
        "  descuento = 0.05\n",
        "\n",
        "valor_descuento = precio * litros * descuento\n",
        "valor_pagar = precio * litros - valor_descuento\n",
        "\n",
        "print ('Usted ha cargado %.2f litros de combustible y debe abonar %.2f.' %(litros, valor_pagar))\n",
        "print ('Ha recibido un descuento de %.2F.' %(valor_descuento))"
      ],
      "metadata": {
        "colab": {
          "base_uri": "https://localhost:8080/"
        },
        "id": "lp0eRvYiPcuP",
        "outputId": "4ee6abdd-0d70-4c07-cefa-abba7de2ce0b"
      },
      "execution_count": 49,
      "outputs": [
        {
          "output_type": "stream",
          "name": "stdout",
          "text": [
            "Indique el combustible que desea cargar (D o E): t\n",
            "Indique la cantidad de litros: 45\n",
            "Combustible inválido\n",
            "Usted ha cargado 45.00 litros de combustible y debe abonar 0.00.\n",
            "Ha recibido un descuento de 0.00.\n"
          ]
        }
      ]
    },
    {
      "cell_type": "markdown",
      "source": [
        "13 - En una empresa de venta de bienes raíces, debes crear un código que analice los datos de ventas anuales para ayudar a la dirección en la toma de decisiones. El código debe recopilar los datos de cantidad de ventas durante los años 2022 y 2023 y calcular la variación porcentual.\n",
        "A partir del valor de la variación, se deben proporcionar las siguientes sugerencias:\n",
        "\n",
        "Para una variación superior al 20%: bonificación para el equipo de ventas.\n",
        "\n",
        "Para una variación entre el 2% y el 20%: pequeña bonificación para el equipo de ventas.\n",
        "\n",
        "Para una variación entre el 2% y el -10%: planificación de políticas de incentivo a las ventas.\n",
        "\n",
        "Para bonificaciones inferiores al -10%: recorte de gastos."
      ],
      "metadata": {
        "id": "ZPaUGKNKPdUZ"
      }
    },
    {
      "cell_type": "code",
      "source": [
        "ventas_2022 = float(input(\"Ingrese la cantidad de ventas del año 2022: \"))\n",
        "ventas_2023 = float(input(\"Ingrese la cantidad de ventas del año 2023: \"))\n",
        "\n",
        "variacion = (ventas_2023 - ventas_2022) *100 / ventas_2022\n",
        "\n",
        "if variacion > 20:\n",
        "  print('La variación porcentual fue del %.2f. Corresponde otorgar una bonificación para el equipo de ventas.' %(variacion))\n",
        "elif variacion > 2:\n",
        "  print('La variación porcentual fue del %.2f. Corresponde otorgar una pequeña bonificación para el equipo de ventas.' %(variacion))\n",
        "elif variacion > -10:\n",
        "  print('La variación porcentual fue del %.2f. Corresponde hacer una planificación de políticas de incentivo a las ventas.' %(variacion))\n",
        "else:\n",
        "    print('La variación porcentual fue del %.2f. Corresponde hacer un recorte de gastos.' %(variacion))\n"
      ],
      "metadata": {
        "colab": {
          "base_uri": "https://localhost:8080/"
        },
        "id": "4BNSrKxCPeiu",
        "outputId": "b291da7e-0164-4b1c-e948-ec7cbce59d0a"
      },
      "execution_count": 52,
      "outputs": [
        {
          "output_type": "stream",
          "name": "stdout",
          "text": [
            "Ingrese la cantidad de ventas del año 2022: 34\n",
            "Ingrese la cantidad de ventas del año 2023: 40\n",
            "La variación porcentual fue del 17.65. Corresponde otorgar una pequeña bonificación para el equipo de ventas.\n"
          ]
        }
      ]
    }
  ]
}
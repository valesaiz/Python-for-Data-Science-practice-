{
  "nbformat": 4,
  "nbformat_minor": 0,
  "metadata": {
    "colab": {
      "provenance": [],
      "include_colab_link": true
    },
    "kernelspec": {
      "name": "python3",
      "display_name": "Python 3"
    },
    "language_info": {
      "name": "python"
    }
  },
  "cells": [
    {
      "cell_type": "markdown",
      "metadata": {
        "id": "view-in-github",
        "colab_type": "text"
      },
      "source": [
        "<a href=\"https://colab.research.google.com/github/valesaiz/Python-for-Data-Science-practice-/blob/main/Alura_Desaf%C3%ADo_1.ipynb\" target=\"_parent\"><img src=\"https://colab.research.google.com/assets/colab-badge.svg\" alt=\"Open In Colab\"/></a>"
      ]
    },
    {
      "cell_type": "markdown",
      "source": [
        "Recopilación y muestra de datos\n",
        "\n",
        "1 - Crea un programa que solicite al usuario que escriba su nombre y luego imprima \"Hola, [nombre].\"\n",
        "\n",
        "2 - Crea un programa que solicite al usuario que escriba su nombre y edad, y luego imprima \"Hola, [nombre], tienes [edad] años.\"\n",
        "\n",
        "3 - Crea un programa que solicite al usuario que escriba su nombre, edad y altura en metros, y luego imprima \"Hola, [nombre], tienes [edad] años y mides [altura] metros.\"\n",
        "\n",
        "Calculadora con operadores\n",
        "\n",
        "4 - Crea un programa que solicite dos valores numéricos al usuario y luego imprima la suma de ambos valores.\n",
        "\n",
        "5 - Crea un programa que solicite tres valores numéricos al usuario y luego imprima la suma de los tres valores.\n",
        "\n",
        "6 - Crea un programa que solicite dos valores numéricos al usuario y luego imprima la resta del primero menos el segundo valor.\n",
        "\n",
        "7 - Crea un programa que solicite dos valores numéricos al usuario y luego imprima la multiplicación de los dos valores.\n",
        "\n",
        "8 - Crea un programa que solicite dos valores numéricos, un numerador y un denominador, y realice la división entre los dos valores. Asegúrate de que el valor del denominador no sea igual a 0.\n",
        "\n",
        "9 - Crea un programa que solicite dos valores numéricos, un operador y una potencia, y realice la exponenciación entre estos dos valores.\n",
        "\n",
        "10 - Crea un programa que solicite dos valores numéricos, un numerador y un denominador, y realice la división entera entre los dos valores. Asegúrate de que el valor del denominador no sea igual a 0.\n",
        "\n",
        "11 - Crea un programa que solicite dos valores numéricos, un numerador y un denominador, y devuelva el resto de la división entre los dos valores. Asegúrate de que el valor del denominador no sea igual a 0.\n",
        "\n",
        "12 - Crea un código que solicite las 3 notas de un estudiante e imprima el promedio de las notas.\n",
        "\n",
        "13 - Crea un código que calcule e imprima el promedio ponderado de los números 5, 12, 20 y 15 con pesos respectivamente iguales a 1, 2, 3 y 4.\n",
        "\n",
        "Editando textos\n",
        "\n",
        "14 - Crea una variable llamada \"frase\" y asígnale una cadena de texto de tu elección. Luego, imprime la frase en pantalla.\n",
        "\n",
        "15 - Crea un código que solicite una frase y luego imprima la frase en pantalla.\n",
        "\n",
        "16 - Crea un código que solicite una frase al usuario y luego imprima la misma frase ingresada pero en mayúsculas.\n",
        "\n",
        "17 - Crea un código que solicite una frase al usuario y luego imprima la misma frase ingresada pero en minúsculas.\n",
        "\n",
        "18 - Crea una variable llamada \"frase\" y asígnale una cadena de texto de tu elección. Luego, imprime la frase sin espacios en blanco al principio y al final.\n",
        "\n",
        "19 - Crea un código que solicite una frase al usuario y luego imprima la misma frase sin espacios en blanco al principio y al final.\n",
        "\n",
        "20 - Crea un código que solicite una frase al usuario y luego imprima la misma frase sin espacios en blanco al principio y al final, además de convertirla a minúsculas.\n",
        "\n",
        "21 - Crea un código que solicite una frase al usuario y luego imprima la misma frase con todas las vocales \"e\" reemplazadas por la letra \"f\".\n",
        "\n",
        "22 - Crea un código que solicite una frase al usuario y luego imprima la misma frase con todas las vocales \"a\" reemplazadas por el carácter \"@\".\n",
        "\n",
        "23 - Crea un código que solicite una frase al usuario y luego imprima la misma frase con todas las consonantes \"s\" reemplazadas por el carácter \"$\".\n",
        "\n",
        "Si necesitas ayuda, las opciones de solución a las actividades estarán disponibles en la sección \"Opinión del instructor\"."
      ],
      "metadata": {
        "id": "CjHsoK46iUFu"
      }
    },
    {
      "cell_type": "code",
      "source": [
        "# Crea un programa que solicite al usuario que escriba su nombre y luego imprima \"Hola, [nombre].\"\n",
        "nombre = input ('ingrese su nombre: ')\n",
        "print('Su nombre es: ', nombre)"
      ],
      "metadata": {
        "colab": {
          "base_uri": "https://localhost:8080/"
        },
        "id": "z-mP3sT7ibNQ",
        "outputId": "649ce4d5-446e-4686-ae81-742c11757d5f"
      },
      "execution_count": null,
      "outputs": [
        {
          "output_type": "stream",
          "name": "stdout",
          "text": [
            "ingrese su nombre: Valeria\n",
            "Su nombre es:  Valeria\n"
          ]
        }
      ]
    },
    {
      "cell_type": "code",
      "source": [
        "# 2 - Crea un programa que solicite al usuario que escriba su nombre y edad, y luego imprima \"Hola, [nombre], tienes [edad] años.\"\n",
        "nombre = input('Ingrese su nombre: ')\n",
        "edad = input('Ingrese su edad: ')\n",
        "print(f\"Hola, {nombre}. Tienes {edad} años.\")"
      ],
      "metadata": {
        "colab": {
          "base_uri": "https://localhost:8080/"
        },
        "id": "odRBD-VSkB-d",
        "outputId": "e074000f-9ae4-493d-b51d-4cdc58c2f8d9"
      },
      "execution_count": null,
      "outputs": [
        {
          "output_type": "stream",
          "name": "stdout",
          "text": [
            "Ingrese su nombre: Valeria\n",
            "Ingrese su edad: 46\n",
            "Hola, Valeria. Tienes 46 años.\n"
          ]
        }
      ]
    },
    {
      "cell_type": "code",
      "source": [
        "# 3 - Crea un programa que solicite al usuario que escriba su nombre, edad y altura en metros, y luego imprima \"Hola, [nombre], tienes [edad] años y mides [altura] metros.\"\n",
        "nombre = input('Ingrese su nombre: ')\n",
        "edad = int(input('Ingrese su edad: '))\n",
        "altura = float(input('Ingrese su altura (en metros): '))\n",
        "print(f'Hola, {nombre}, tienes {edad} años y mides {altura} metros')"
      ],
      "metadata": {
        "colab": {
          "base_uri": "https://localhost:8080/"
        },
        "id": "mb5XZnf9lktN",
        "outputId": "4744fa81-e478-456f-ccba-544366b49a18"
      },
      "execution_count": null,
      "outputs": [
        {
          "output_type": "stream",
          "name": "stdout",
          "text": [
            "Ingrese su nombre: Valeria\n",
            "Ingrese su edad: 46\n",
            "Ingrese su altura (en metros): 1.64\n",
            "Hola, Valeria, tienes 46 años y mides 1.64 metros\n"
          ]
        }
      ]
    },
    {
      "cell_type": "code",
      "source": [
        "# 4 - Crea un programa que solicite dos valores numéricos al usuario y luego imprima la suma de ambos valores.\n",
        "a = int(input('ingrese un primer sumando: '))\n",
        "b = int(input('Ingrese un segundo sumando: '))\n",
        "print('La suma de los valores ingresados es: ', a+b)"
      ],
      "metadata": {
        "colab": {
          "base_uri": "https://localhost:8080/"
        },
        "id": "LkuEYJM7m4qc",
        "outputId": "ccf5c972-6225-4587-a9f3-b6b7d8856c33"
      },
      "execution_count": null,
      "outputs": [
        {
          "output_type": "stream",
          "name": "stdout",
          "text": [
            "ingrese un primer sumando: 65\n",
            "Ingrese un segundo sumando: 35\n",
            "La suma de los valores ingresados es:  100\n"
          ]
        }
      ]
    },
    {
      "cell_type": "code",
      "source": [
        "# 5 - Crea un programa que solicite tres valores numéricos al usuario y luego imprima la suma de los tres valores.\n",
        "a = int(input('ingrese un primer sumando: '))\n",
        "b = int(input('Ingrese un segundo sumando: '))\n",
        "c = int(input('Ingrese un tercer sumando: '))\n",
        "print('La suma de los valores ingresados es: ', a+b+c)"
      ],
      "metadata": {
        "colab": {
          "base_uri": "https://localhost:8080/"
        },
        "id": "5mlkSRKYn3EC",
        "outputId": "ce2e2691-bc70-4e9f-b622-6486b4eefb64"
      },
      "execution_count": null,
      "outputs": [
        {
          "output_type": "stream",
          "name": "stdout",
          "text": [
            "ingrese un primer sumando: 34\n",
            "Ingrese un segundo sumando: 5\n",
            "Ingrese un tercer sumando: 1\n",
            "La suma de los valores ingresados es:  40\n"
          ]
        }
      ]
    },
    {
      "cell_type": "code",
      "source": [
        "# 6 - Crea un programa que solicite dos valores numéricos al usuario y luego imprima la resta del primero menos el segundo valor.\n",
        "a = int(input('ingrese un primer valor para restar (minuendo): '))\n",
        "b = int(input('Ingrese un segundo valor para restar (sustraendo): '))\n",
        "print('La resta de los valores ingresados es: ', a-b)"
      ],
      "metadata": {
        "colab": {
          "base_uri": "https://localhost:8080/"
        },
        "id": "Nq-20pnGoPax",
        "outputId": "c165164c-3f2d-4393-860d-d925aee30fb4"
      },
      "execution_count": null,
      "outputs": [
        {
          "output_type": "stream",
          "name": "stdout",
          "text": [
            "ingrese un primer valor para restar (minuendo): 123\n",
            "Ingrese un segundo valor para restar (sustraendo): 98\n",
            "La resta de los valores ingresados es:  25\n"
          ]
        }
      ]
    },
    {
      "cell_type": "code",
      "source": [
        "# 7 - Crea un programa que solicite dos valores numéricos al usuario y luego imprima la multiplicación de los dos valores.\n",
        "a = int(input('ingrese un primer valor para multiplicar: '))\n",
        "b = int(input('Ingrese un segundo valor para multiplicar: '))\n",
        "print('La multiplicación de los valores ingresados es: ', a*b)"
      ],
      "metadata": {
        "colab": {
          "base_uri": "https://localhost:8080/"
        },
        "id": "3BRl-dtBoxcb",
        "outputId": "5bd8c317-e7e1-4ed8-b4b0-da586a4d1589"
      },
      "execution_count": null,
      "outputs": [
        {
          "output_type": "stream",
          "name": "stdout",
          "text": [
            "ingrese un primer valor para multiplicar: 50\n",
            "Ingrese un segundo valor para multiplicar: 3\n",
            "La multiplicación de los valores ingresados es:  150\n"
          ]
        }
      ]
    },
    {
      "cell_type": "code",
      "source": [
        "# 8 - Crea un programa que solicite dos valores numéricos, un numerador y un denominador,\n",
        "#     y realice la división entre los dos valores. Asegúrate de que el valor del denominador no sea igual a 0.\n",
        "\n",
        "a = int(input('Ingrese el dividendo (numerador): '))\n",
        "\n",
        "while True:\n",
        "    b = int(input('Ingrese el divisor (denominador): '))\n",
        "    if b == 0:\n",
        "        print('El denominador no puede ser cero')\n",
        "    else:\n",
        "        break\n",
        "\n",
        "print(f'El resultado de {a} dividido {b} es {a/b}')"
      ],
      "metadata": {
        "colab": {
          "base_uri": "https://localhost:8080/"
        },
        "id": "oOam3PLbpLZU",
        "outputId": "a580b14a-e5ab-49e2-981e-a66cd3329c14"
      },
      "execution_count": null,
      "outputs": [
        {
          "output_type": "stream",
          "name": "stdout",
          "text": [
            "Ingrese el dividendo (numerador): 6\n",
            "Ingrese el divisor (denominador): 0\n",
            "El denominador no puede ser cero\n",
            "Ingrese el divisor (denominador): 0\n",
            "El denominador no puede ser cero\n",
            "Ingrese el divisor (denominador): 2\n",
            "El resultado de 6 dividido 2 es 3.0\n"
          ]
        }
      ]
    },
    {
      "cell_type": "code",
      "source": [
        "# 9 - Crea un programa que solicite dos valores numéricos, un operador y una potencia,\n",
        "# y realice la exponenciación entre estos dos valores.\n",
        "\n",
        "a = int(input('ingrese la base de una potencia: '))\n",
        "b = int(input('Ingrese el exponente): '))\n",
        "print(f'El resultado de {a} elevado a {b} es {a**b}')"
      ],
      "metadata": {
        "colab": {
          "base_uri": "https://localhost:8080/"
        },
        "id": "4kf8Iecor4AZ",
        "outputId": "cb2c57f3-456f-40a2-a040-e6ca936c4222"
      },
      "execution_count": null,
      "outputs": [
        {
          "output_type": "stream",
          "name": "stdout",
          "text": [
            "ingrese la base de una potencia: 4\n",
            "Ingrese el exponente): 2\n",
            "El resultado de 4 elevado a 2 es 16\n"
          ]
        }
      ]
    },
    {
      "cell_type": "code",
      "source": [
        "# 10 - Crea un programa que solicite dos valores numéricos, un numerador y un denominador,\n",
        "#      y realice la división entera entre los dos valores. Asegúrate de que el valor del denominador no sea igual a 0.\n",
        "\n",
        "a = int(input('Ingrese el dividendo (numerador): '))\n",
        "\n",
        "while True:\n",
        "    b = int(input('Ingrese el divisor (denominador): '))\n",
        "    if b == 0:\n",
        "        print('El denominador no puede ser cero')\n",
        "    else:\n",
        "        break\n",
        "\n",
        "print(f'El resultado de {a} dividido {b} es {a//b}')\n"
      ],
      "metadata": {
        "colab": {
          "base_uri": "https://localhost:8080/"
        },
        "id": "vQVN0VVssn7h",
        "outputId": "840f11f4-e693-4baa-9ba5-7c348e3c9f31"
      },
      "execution_count": null,
      "outputs": [
        {
          "output_type": "stream",
          "name": "stdout",
          "text": [
            "Ingrese el dividendo (numerador): 12\n",
            "Ingrese el divisor (denominador): 0\n",
            "El denominador no puede ser cero\n",
            "Ingrese el divisor (denominador): 5\n",
            "El resultado de 12 dividido 5 es 2\n"
          ]
        }
      ]
    },
    {
      "cell_type": "code",
      "source": [
        "# 11 - Crea un programa que solicite dos valores numéricos, un numerador y un denominador, y devuelva el resto de la división entre los dos valores.\n",
        "#      Asegúrate de que el valor del denominador no sea igual a 0.\n",
        "\n",
        "a = int(input('Ingrese el dividendo (numerador): '))\n",
        "\n",
        "while True:\n",
        "    b = int(input('Ingrese el divisor (denominador): '))\n",
        "    if b == 0:\n",
        "        print('El denominador no puede ser cero')\n",
        "    else:\n",
        "        break\n",
        "\n",
        "print(f'El resultado de {a} dividido {b} es {a%b}')"
      ],
      "metadata": {
        "colab": {
          "base_uri": "https://localhost:8080/"
        },
        "id": "3rBZYPg0t2J5",
        "outputId": "47e734c8-e774-43b3-f7ec-5430ad5e651b"
      },
      "execution_count": null,
      "outputs": [
        {
          "output_type": "stream",
          "name": "stdout",
          "text": [
            "Ingrese el dividendo (numerador): 13\n",
            "Ingrese el divisor (denominador): 0\n",
            "El denominador no puede ser cero\n",
            "Ingrese el divisor (denominador): 5\n",
            "El resultado de 13 dividido 5 es 3\n"
          ]
        }
      ]
    },
    {
      "cell_type": "code",
      "source": [
        "# 12 - Crea un código que solicite las 3 notas de un estudiante e imprima el promedio de las notas.\n",
        "\n",
        "a = float(input('ingrese la primera nota del alumno (puede tener decimales): '))\n",
        "b = float(input('ingrese la segunda nota del alumno (puede tener decimales): '))\n",
        "c = float(input('ingrese la tercera nota del alumno (puede tener decimales): '))\n",
        "promedio = (a+b+c)/3\n",
        "print('El promedio de las notas %.2f, %.2f, y %.2f es %.2f' %(a, b, c, promedio))"
      ],
      "metadata": {
        "colab": {
          "base_uri": "https://localhost:8080/"
        },
        "id": "Fj4nSOBIunup",
        "outputId": "77732fa6-e6ea-4a11-bfda-5d1721772977"
      },
      "execution_count": null,
      "outputs": [
        {
          "output_type": "stream",
          "name": "stdout",
          "text": [
            "ingrese la primera nota del alumno (puede tener decimales): 10\n",
            "ingrese la segunda nota del alumno (puede tener decimales): 7.5\n",
            "ingrese la tercera nota del alumno (puede tener decimales): 8\n",
            "El promedio de las notas 10.00, 7.50, y 8.00 es 8.50\n"
          ]
        }
      ]
    },
    {
      "cell_type": "code",
      "source": [
        "''' 13 - Crea un código que calcule e imprima el promedio ponderado de los números 5, 12, 20 y 15 con pesos\n",
        "respectivamente iguales a 1, 2, 3 y 4.\n",
        "n = Nota\n",
        "p = Peso\n",
        "Promedio Ponderado = (n1 * p1 + n2 * p2 + ...) / (p1 + p2 + ...)\n",
        "\n",
        "'''\n",
        "\n",
        "promedio_ponderado = (5*1 + 12*2 + 20*3 + 15*4)/(1+2+3+4)\n",
        "print('El promedio ponderado de los números 5, 12, 20 y 15 con pesos respectivamente iguales a 1, 2, 3 y 4 es %.2f' %(promedio_ponderado))"
      ],
      "metadata": {
        "colab": {
          "base_uri": "https://localhost:8080/"
        },
        "id": "NY2Tz1Q5yCpY",
        "outputId": "3170fb17-946a-4309-a9a5-adc0322859b2"
      },
      "execution_count": null,
      "outputs": [
        {
          "output_type": "stream",
          "name": "stdout",
          "text": [
            "El promedio ponderado de los números 5, 12, 20 y 15 con pesos respectivamente iguales a 1, 2, 3 y 4 es 14.90\n"
          ]
        }
      ]
    },
    {
      "cell_type": "code",
      "source": [
        "# 14 - Crea una variable llamada \"frase\" y asígnale una cadena de texto de tu elección. Luego, imprime la frase en pantalla.\n",
        "\n",
        "frase = '¡Hola mundo!'\n",
        "print(frase)"
      ],
      "metadata": {
        "colab": {
          "base_uri": "https://localhost:8080/"
        },
        "id": "_jYrpNkFy-nx",
        "outputId": "5b459bd4-5a25-46bd-980f-b3a3d4bb6537"
      },
      "execution_count": null,
      "outputs": [
        {
          "output_type": "stream",
          "name": "stdout",
          "text": [
            "¡Hola mundo!\n"
          ]
        }
      ]
    },
    {
      "cell_type": "code",
      "source": [
        "# 15 - Crea un código que solicite una frase y luego imprima la frase en pantalla.\n",
        "\n",
        "frase = input('Ingrese una frase: ')\n",
        "print(frase)"
      ],
      "metadata": {
        "colab": {
          "base_uri": "https://localhost:8080/"
        },
        "id": "vVfJ_MaqzTWR",
        "outputId": "d0c57c0c-88fe-4a9c-8fbf-315cf9cff837"
      },
      "execution_count": null,
      "outputs": [
        {
          "output_type": "stream",
          "name": "stdout",
          "text": [
            "Ingrese una frase: Hoy es domingo.\n",
            "Hoy es domingo.\n"
          ]
        }
      ]
    },
    {
      "cell_type": "code",
      "source": [
        "# 16 - Crea un código que solicite una frase al usuario y luego imprima la misma frase ingresada pero en mayúsculas.\n",
        "\n",
        "# OPCION 1\n",
        "frase = input('Ingrese una frase: ').upper()\n",
        "print(frase)\n",
        "\n",
        "# OPCION 2\n",
        "frase = input('Ingrese una frase: ')\n",
        "print(frase.upper())"
      ],
      "metadata": {
        "colab": {
          "base_uri": "https://localhost:8080/"
        },
        "id": "bZ0ym9fyzx2K",
        "outputId": "c6fe53fb-747e-4083-fea8-7bf6e161ac91"
      },
      "execution_count": null,
      "outputs": [
        {
          "output_type": "stream",
          "name": "stdout",
          "text": [
            "Ingrese una frase: hola mundo\n",
            "HOLA MUNDO\n",
            "Ingrese una frase: hola mundo\n",
            "HOLA MUNDO\n"
          ]
        }
      ]
    },
    {
      "cell_type": "code",
      "source": [
        "# 17 - Crea un código que solicite una frase al usuario y luego imprima la misma frase ingresada pero en minúsculas.\n",
        "\n",
        "frase = input('Ingrese una frase: ').lower()\n",
        "print(frase)"
      ],
      "metadata": {
        "colab": {
          "base_uri": "https://localhost:8080/"
        },
        "id": "hq484Vie1L0d",
        "outputId": "9ab84a04-9266-4968-92ea-9fb025fa1cf9"
      },
      "execution_count": null,
      "outputs": [
        {
          "output_type": "stream",
          "name": "stdout",
          "text": [
            "Ingrese una frase: HOLA mundo\n",
            "hola mundo\n"
          ]
        }
      ]
    },
    {
      "cell_type": "code",
      "source": [
        "# 18 - Crea una variable llamada \"frase\" y asígnale una cadena de texto de tu elección. Luego, imprime la frase sin espacios en blanco\n",
        "# al principio y al final.\n",
        "\n",
        "frase ='    Hola mundo.   '\n",
        "print(frase.strip())"
      ],
      "metadata": {
        "colab": {
          "base_uri": "https://localhost:8080/"
        },
        "id": "-6yJZwNP1-iS",
        "outputId": "15dc513a-e144-470a-9678-00bbe40a30a7"
      },
      "execution_count": null,
      "outputs": [
        {
          "output_type": "stream",
          "name": "stdout",
          "text": [
            "Hola mundo.\n"
          ]
        }
      ]
    },
    {
      "cell_type": "code",
      "source": [
        "# 19 - Crea un código que solicite una frase al usuario y luego imprima la misma frase sin espacios en blanco al principio y al final.\n",
        "\n",
        "frase = input('Ingrese una frase: ').strip()\n",
        "print(frase)"
      ],
      "metadata": {
        "colab": {
          "base_uri": "https://localhost:8080/"
        },
        "id": "l1pZOPli2eiA",
        "outputId": "bab959ca-5625-4080-df96-afbe1013e32f"
      },
      "execution_count": null,
      "outputs": [
        {
          "output_type": "stream",
          "name": "stdout",
          "text": [
            "Ingrese una frase:       Soy Valeria              \n",
            "Soy Valeria\n"
          ]
        }
      ]
    },
    {
      "cell_type": "code",
      "source": [
        "# 20 - Crea un código que solicite una frase al usuario y luego imprima la misma frase sin espacios en blanco al principio y al final,\n",
        "# y además de convertirla a minúsculas.\n",
        "\n",
        "frase = input('Ingrese una frase: ').strip().lower()\n",
        "print(frase)"
      ],
      "metadata": {
        "colab": {
          "base_uri": "https://localhost:8080/"
        },
        "id": "5utShDi53Hn1",
        "outputId": "25be8989-0c73-467d-e00b-4335d16539ad"
      },
      "execution_count": null,
      "outputs": [
        {
          "output_type": "stream",
          "name": "stdout",
          "text": [
            "Ingrese una frase:        SOY VALERIA       \n",
            "soy valeria\n"
          ]
        }
      ]
    },
    {
      "cell_type": "code",
      "source": [
        "# 21 - Crea un código que solicite una frase al usuario y luego imprima la misma frase con todas las vocales \"e\" reemplazadas\n",
        "# por la letra \"f\".\n",
        "\n",
        "frase = input('Ingrese una frase: ')\n",
        "print(frase.replace('e','f'))"
      ],
      "metadata": {
        "colab": {
          "base_uri": "https://localhost:8080/"
        },
        "id": "vuDo50kD3cty",
        "outputId": "083ec32e-8b68-46c4-a533-961f73e3eb7b"
      },
      "execution_count": null,
      "outputs": [
        {
          "output_type": "stream",
          "name": "stdout",
          "text": [
            "Ingrese una frase: En esta frase se reemplazaron todas las letras \"e\" por la letra \"f\"\n",
            "En fsta frasf sf rffmplazaron todas las lftras \"f\" por la lftra \"f\"\n"
          ]
        }
      ]
    },
    {
      "cell_type": "code",
      "source": [
        "# 22 - Crea un código que solicite una frase al usuario y luego imprima la misma frase con todas las vocales \"a\" reemplazadas\n",
        "# por el carácter \"@\".\n",
        "\n",
        "# OPCION 1\n",
        "frase = input('Ingrese una frase: ')\n",
        "print(frase.replace('a','@'))\n",
        "print()\n",
        "\n",
        "# OPCION 2 (buscando el caracter @ en la tabla Unicode)\n",
        "frase = input('Ingrese una frase: ')\n",
        "print(frase.replace('a', chr(64)))"
      ],
      "metadata": {
        "colab": {
          "base_uri": "https://localhost:8080/"
        },
        "id": "c7jjnFFU4y5v",
        "outputId": "28f12c92-9fd0-4aba-9ebe-165d11c2da89"
      },
      "execution_count": null,
      "outputs": [
        {
          "output_type": "stream",
          "name": "stdout",
          "text": [
            "Ingrese una frase: En esta frase las letras \"a\" son reemplazas por \"@\".\n",
            "En est@ fr@se l@s letr@s \"@\" son reempl@z@s por \"@\".\n",
            "\n",
            "Ingrese una frase: En esta frase las letras \"a\" son reemplazas por \"@\".\n",
            "En est@ fr@se l@s letr@s \"@\" son reempl@z@s por \"@\".\n"
          ]
        }
      ]
    },
    {
      "cell_type": "code",
      "source": [
        "# 23 - Crea un código que solicite una frase al usuario y luego imprima la misma frase con todas las consonantes \"s\"\n",
        "# reemplazadas por el carácter \"$\".\n",
        "\n",
        "frase = input('Ingrese una frase: ')\n",
        "print(frase.replace('s','$'))\n",
        "print()\n"
      ],
      "metadata": {
        "colab": {
          "base_uri": "https://localhost:8080/"
        },
        "id": "JxZmp5jB5pEe",
        "outputId": "af139439-ae2c-4b9d-c472-43846e573ef9"
      },
      "execution_count": null,
      "outputs": [
        {
          "output_type": "stream",
          "name": "stdout",
          "text": [
            "Ingrese una frase: En esta frase las letras \"s\" son reemplazadas por \"$\".\n",
            "En e$ta fra$e la$ letra$ \"$\" $on reemplazada$ por \"$\".\n",
            "\n"
          ]
        }
      ]
    }
  ]
}
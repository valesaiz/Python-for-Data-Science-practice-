{
  "nbformat": 4,
  "nbformat_minor": 0,
  "metadata": {
    "colab": {
      "provenance": [],
      "authorship_tag": "ABX9TyPM/roRjqCAmZJnmF1EFLrS",
      "include_colab_link": true
    },
    "kernelspec": {
      "name": "python3",
      "display_name": "Python 3"
    },
    "language_info": {
      "name": "python"
    }
  },
  "cells": [
    {
      "cell_type": "markdown",
      "metadata": {
        "id": "view-in-github",
        "colab_type": "text"
      },
      "source": [
        "<a href=\"https://colab.research.google.com/github/valesaiz/Python-for-Data-Science-practice-/blob/main/Alura_Desafio_5.ipynb\" target=\"_parent\"><img src=\"https://colab.research.google.com/assets/colab-badge.svg\" alt=\"Open In Colab\"/></a>"
      ]
    },
    {
      "cell_type": "markdown",
      "source": [
        "#Calentamiento\n",
        "\n",
        "1 - Escribe un código para instalar la versión 3.7.1 de la biblioteca matplotlib.\n",
        "\n",
        "2 - Escribe un código para importar la biblioteca numpy con el alias np.\n",
        "\n",
        "3 - Crea un programa que lea la siguiente lista de números y elija uno al azar.\n",
        "\n",
        "lista = [8, 12, 54, 23, 43, 1, 90, 87, 105, 77]\n",
        "\n",
        "4 - Crea un programa que genere aleatoriamente un número entero menor que 100.\n",
        "\n",
        "5 - Crea un programa que solicite a la persona usuaria ingresar dos números enteros y calcule la potencia del primer número elevado al segundo."
      ],
      "metadata": {
        "id": "JO9ufT1GTDdZ"
      }
    },
    {
      "cell_type": "code",
      "execution_count": 4,
      "metadata": {
        "colab": {
          "base_uri": "https://localhost:8080/"
        },
        "id": "Jkl9dofpTCUX",
        "outputId": "d390e14e-7eb4-4c9a-8e09-6e21631de85e"
      },
      "outputs": [
        {
          "output_type": "stream",
          "name": "stdout",
          "text": [
            "Requirement already satisfied: matplotlib==3.7.1 in /usr/local/lib/python3.11/dist-packages (3.7.1)\n",
            "Requirement already satisfied: contourpy>=1.0.1 in /usr/local/lib/python3.11/dist-packages (from matplotlib==3.7.1) (1.3.2)\n",
            "Requirement already satisfied: cycler>=0.10 in /usr/local/lib/python3.11/dist-packages (from matplotlib==3.7.1) (0.12.1)\n",
            "Requirement already satisfied: fonttools>=4.22.0 in /usr/local/lib/python3.11/dist-packages (from matplotlib==3.7.1) (4.57.0)\n",
            "Requirement already satisfied: kiwisolver>=1.0.1 in /usr/local/lib/python3.11/dist-packages (from matplotlib==3.7.1) (1.4.8)\n",
            "Requirement already satisfied: numpy>=1.20 in /usr/local/lib/python3.11/dist-packages (from matplotlib==3.7.1) (2.0.2)\n",
            "Requirement already satisfied: packaging>=20.0 in /usr/local/lib/python3.11/dist-packages (from matplotlib==3.7.1) (24.2)\n",
            "Requirement already satisfied: pillow>=6.2.0 in /usr/local/lib/python3.11/dist-packages (from matplotlib==3.7.1) (11.2.1)\n",
            "Requirement already satisfied: pyparsing>=2.3.1 in /usr/local/lib/python3.11/dist-packages (from matplotlib==3.7.1) (3.2.3)\n",
            "Requirement already satisfied: python-dateutil>=2.7 in /usr/local/lib/python3.11/dist-packages (from matplotlib==3.7.1) (2.9.0.post0)\n",
            "Requirement already satisfied: six>=1.5 in /usr/local/lib/python3.11/dist-packages (from python-dateutil>=2.7->matplotlib==3.7.1) (1.17.0)\n"
          ]
        }
      ],
      "source": [
        "!pip install matplotlib==3.7.1"
      ]
    },
    {
      "cell_type": "code",
      "source": [
        "import numpy as np"
      ],
      "metadata": {
        "id": "qhSzUUvfWB7q"
      },
      "execution_count": 6,
      "outputs": []
    },
    {
      "cell_type": "code",
      "source": [
        "import random\n",
        "\n",
        "# Crea un programa que lea una lista de números y elija uno al azar.\n",
        "lista = [8, 12, 54, 23, 43, 1, 90, 87, 105, 77]\n",
        "numero_azar = random.choice(lista)\n",
        "print(numero_azar)\n",
        "\n",
        "# Crea un programa que genere aleatoriamente un número entero menor que 100.\n",
        "\n",
        "numero = random.randint(0, 100)\n",
        "print(numero)\n",
        "\n",
        "# Otra opción\n",
        "numero2 = random.randrange(100)\n",
        "print(numero2)\n",
        "\n",
        "help (random.randint)\n",
        "help(random.randrange)"
      ],
      "metadata": {
        "colab": {
          "base_uri": "https://localhost:8080/"
        },
        "id": "Z7eZAW5HWE0C",
        "outputId": "98402df7-90d3-40f7-b3d0-fc669b82f6bf"
      },
      "execution_count": 18,
      "outputs": [
        {
          "output_type": "stream",
          "name": "stdout",
          "text": [
            "23\n",
            "51\n",
            "66\n",
            "Help on method randint in module random:\n",
            "\n",
            "randint(a, b) method of random.Random instance\n",
            "    Return random integer in range [a, b], including both end points.\n",
            "\n",
            "Help on method randrange in module random:\n",
            "\n",
            "randrange(start, stop=None, step=1) method of random.Random instance\n",
            "    Choose a random item from range(stop) or range(start, stop[, step]).\n",
            "    \n",
            "    Roughly equivalent to ``choice(range(start, stop, step))`` but\n",
            "    supports arbitrarily large ranges and is optimized for common cases.\n",
            "\n"
          ]
        }
      ]
    },
    {
      "cell_type": "code",
      "source": [
        "# Crea un programa que solicite a la persona usuaria ingresar dos números enteros\n",
        "# y calcule la potencia del primer número elevado al segundo.\n",
        "\n",
        "numero1 = int(input(\"Ingrese un número entero: \"))\n",
        "numero2 = int(input(\"Ingrese otro número entero: \"))\n",
        "\n",
        "potencia = numero1 ** numero2\n",
        "print(\"El resultado de la potencia es: \", potencia)\n"
      ],
      "metadata": {
        "colab": {
          "base_uri": "https://localhost:8080/"
        },
        "id": "THxmc_N8WXFn",
        "outputId": "dda02520-f280-452f-b64a-fd4581a132d3"
      },
      "execution_count": 22,
      "outputs": [
        {
          "output_type": "stream",
          "name": "stdout",
          "text": [
            "Ingrese un número entero: 3\n",
            "Ingrese otro número entero: 2\n",
            "El resultado de la potencia es:  9\n"
          ]
        }
      ]
    },
    {
      "cell_type": "code",
      "source": [
        "# Otra forma usando la biblioteca math\n",
        "\n",
        "import math\n",
        "numero1 = int(input(\"Ingrese un número entero: \"))\n",
        "numero2 = int(input(\"Ingrese otro número entero: \"))\n",
        "\n",
        "potencia = math.pow(numero1, numero2)\n",
        "\n",
        "print(\"El resultado de la potencia es: \", potencia)\n"
      ],
      "metadata": {
        "colab": {
          "base_uri": "https://localhost:8080/"
        },
        "id": "ircWlrfHY-fO",
        "outputId": "fc3787fc-d449-4f2d-f5a3-24cfe635b969"
      },
      "execution_count": 24,
      "outputs": [
        {
          "output_type": "stream",
          "name": "stdout",
          "text": [
            "Ingrese un número entero: 4\n",
            "Ingrese otro número entero: 3\n",
            "El resultado de la potencia es:  64.0\n"
          ]
        }
      ]
    },
    {
      "cell_type": "markdown",
      "source": [
        "#Aplicando a proyectos\n",
        "\n",
        "6 - Se debe escribir un programa para sortear a un seguidor de una red social para ganar un premio. La lista de participantes está numerada y debemos elegir aleatoriamente un número según la cantidad de participantes. Pide a la persona usuaria que proporcione el número de participantes del sorteo y devuelve el número sorteado.\n",
        "\n",
        "7 - Has recibido una solicitud para generar números de token para acceder a la aplicación de una empresa. El token debe ser par y variar de 1000 a 9998. Escribe un código que solicite el nombre de la persona usuaria y muestre un mensaje junto a este token generado aleatoriamente.\n",
        "\n",
        "print(f\"Hola, {nombre_usuario}, tu token de acceso es {token_generado} ¡Bienvenido/a!\")\n",
        "\n",
        "8 - Para diversificar y atraer nuevos clientes, una lanchonete creó un ítem misterioso en su menú llamado \"ensalada de frutas sorpresa\". En este ítem, se eligen aleatoriamente 3 frutas de una lista de 12 para componer la ensalada de frutas del cliente. Crea el código que realice esta selección aleatoria según la lista dada.\n",
        "\n",
        "frutas = [\"manzana\", \"banana\", \"uva\", \"pera\", \"mango\", \"coco\", \"sandia\", \"fresa\", \"naranja\", \"maracuya\", \"kiwi\", \"cereza\"]\n",
        "\n",
        "9 - Has recibido un desafío para calcular la raíz cuadrada de una lista de números, identificando cuáles resultan en un número entero. La lista es la siguiente:\n",
        "\n",
        "numeros = [2, 8, 15, 23, 91, 112, 256]\n",
        "\n",
        "10 - Haz un programa para una tienda que vende césped para jardines. Esta tienda trabaja con jardines circulares y el precio del metro cuadrado de césped es de R$ 25,00. Pide a la persona usuaria el radio del área circular y devuelve el valor en reales de cuánto tendrá que pagar."
      ],
      "metadata": {
        "id": "4sxRiZAaTrNi"
      }
    },
    {
      "cell_type": "code",
      "source": [
        "'''\n",
        "6 - Se debe escribir un programa para sortear a un seguidor de una red social para ganar un premio.\n",
        "La lista de participantes está numerada y debemos elegir aleatoriamente un número según la cantidad de participantes.\n",
        "Pide a la persona usuaria que proporcione el número de participantes del sorteo y devuelve el número sorteado.\n",
        "'''\n",
        "import random\n",
        "\n",
        "participantes = int(input(\"Ingrese la cantidad de participantes: \"))\n",
        "numero_sorteado = random.randint(1, participantes)\n",
        "print(\"El número sorteado es: \", numero_sorteado)"
      ],
      "metadata": {
        "colab": {
          "base_uri": "https://localhost:8080/"
        },
        "id": "qtyrnZ3uZbmQ",
        "outputId": "a6b8477f-d09d-4fb7-b134-d00485bc5bd0"
      },
      "execution_count": 25,
      "outputs": [
        {
          "output_type": "stream",
          "name": "stdout",
          "text": [
            "Ingrese la cantidad de participantes: 5\n",
            "El número sorteado es:  2\n"
          ]
        }
      ]
    },
    {
      "cell_type": "code",
      "source": [
        "'''\n",
        "7 - Has recibido una solicitud para generar números de token para acceder a la aplicación de una empresa.\n",
        "El token debe ser par y variar de 1000 a 9998. Escribe un código que solicite el nombre de la persona usuaria\n",
        "y muestre un mensaje junto a este token generado aleatoriamente.\n",
        "'''\n",
        "\n",
        "usuario = input('Ingrese su nombre: ')\n",
        "token = random.randrange(1000, 9999, 2)\n",
        "print(f'Hola, {usuario}, su token de acceso es {token} ¡Bienvenido/a!')"
      ],
      "metadata": {
        "colab": {
          "base_uri": "https://localhost:8080/"
        },
        "id": "Ky9YPCrPTv_O",
        "outputId": "f507b115-87a9-4346-c3ba-a7b7cd80a8dc"
      },
      "execution_count": 26,
      "outputs": [
        {
          "output_type": "stream",
          "name": "stdout",
          "text": [
            "Ingrese su nombre: Vale\n",
            "Hola, Vale, su token de acceso es 8970 ¡Bienvenido/a!\n"
          ]
        }
      ]
    },
    {
      "cell_type": "code",
      "source": [
        "'''\n",
        "8 - Para diversificar y atraer nuevos clientes, una lanchonete creó un ítem misterioso en su menú llamado \"ensalada de frutas sorpresa\".\n",
        "En este ítem, se eligen aleatoriamente 3 frutas de una lista de 12 para componer la ensalada de frutas del cliente.\n",
        "Crea el código que realice esta selección aleatoria según la lista dada.\n",
        "frutas = [\"manzana\", \"banana\", \"uva\", \"pera\", \"mango\", \"coco\", \"sandia\", \"fresa\", \"naranja\", \"maracuya\", \"kiwi\", \"cereza\"]\n",
        "'''\n",
        "import random\n",
        "\n",
        "frutas = [\"manzana\", \"banana\", \"uva\", \"pera\", \"mango\", \"coco\", \"sandia\", \"fresa\", \"naranja\", \"maracuya\", \"kiwi\", \"cereza\"]\n",
        "\n",
        "indice_fruta_1 = random.randint(0, 11)\n",
        "indice_fruta_2 = random.randint(0, 11)\n",
        "indice_fruta_3 = random.randint(0, 11)\n",
        "\n",
        "print ('La ensalada de frutas que debes preparar es: ')\n",
        "print (frutas[indice_fruta_1])\n",
        "print (frutas[indice_fruta_2])\n",
        "print (frutas[indice_fruta_3])"
      ],
      "metadata": {
        "colab": {
          "base_uri": "https://localhost:8080/"
        },
        "id": "LCmQVNcwbbwd",
        "outputId": "f47cf490-664d-4a84-9bea-19ef4280f03d"
      },
      "execution_count": 27,
      "outputs": [
        {
          "output_type": "stream",
          "name": "stdout",
          "text": [
            "La ensalada de frutas que debes preparar es: \n",
            "maracuya\n",
            "cereza\n",
            "coco\n"
          ]
        }
      ]
    },
    {
      "cell_type": "code",
      "source": [
        "# Así lo resolvió el profesor\n",
        "\n",
        "import random\n",
        "\n",
        "frutas = [\"manzana\", \"banana\", \"uva\", \"pera\", \"mango\", \"coco\", \"sandia\", \"fresa\", \"naranja\", \"maracuya\", \"kiwi\", \"cereza\"]\n",
        "\n",
        "seleccion_frutas = random.sample(frutas, 3)   # seleccion_frutas será una lista con la selección realizada\n",
        "\n",
        "print(\"La ensalada de frutas que debes preparar es:\", seleccion_frutas)\n",
        "\n",
        "help(random.sample)"
      ],
      "metadata": {
        "colab": {
          "base_uri": "https://localhost:8080/"
        },
        "id": "R8MFFuWncWtx",
        "outputId": "f4a98aac-2b6f-40ff-c0eb-aed33e15aded"
      },
      "execution_count": 30,
      "outputs": [
        {
          "output_type": "stream",
          "name": "stdout",
          "text": [
            "La ensalada de frutas que debes preparar es: ['sandia', 'cereza', 'maracuya']\n",
            "Help on method sample in module random:\n",
            "\n",
            "sample(population, k, *, counts=None) method of random.Random instance\n",
            "    Chooses k unique random elements from a population sequence.\n",
            "    \n",
            "    Returns a new list containing elements from the population while\n",
            "    leaving the original population unchanged.  The resulting list is\n",
            "    in selection order so that all sub-slices will also be valid random\n",
            "    samples.  This allows raffle winners (the sample) to be partitioned\n",
            "    into grand prize and second place winners (the subslices).\n",
            "    \n",
            "    Members of the population need not be hashable or unique.  If the\n",
            "    population contains repeats, then each occurrence is a possible\n",
            "    selection in the sample.\n",
            "    \n",
            "    Repeated elements can be specified one at a time or with the optional\n",
            "    counts parameter.  For example:\n",
            "    \n",
            "        sample(['red', 'blue'], counts=[4, 2], k=5)\n",
            "    \n",
            "    is equivalent to:\n",
            "    \n",
            "        sample(['red', 'red', 'red', 'red', 'blue', 'blue'], k=5)\n",
            "    \n",
            "    To choose a sample from a range of integers, use range() for the\n",
            "    population argument.  This is especially fast and space efficient\n",
            "    for sampling from a large population:\n",
            "    \n",
            "        sample(range(10000000), 60)\n",
            "\n"
          ]
        }
      ]
    },
    {
      "cell_type": "code",
      "source": [
        "'''\n",
        "9 - Has recibido un desafío para calcular la raíz cuadrada de una lista de números,\n",
        "identificando cuáles resultan en un número entero. La lista es la siguiente:\n",
        "numeros = [2, 8, 15, 23, 91, 112, 256]\n",
        "'''\n",
        "\n",
        "import math\n",
        "\n",
        "numeros = [2, 8, 15, 23, 91, 112, 256]\n",
        "\n",
        "numeros_raices_enteras = []\n",
        "for numero in numeros:\n",
        "  raiz_cuadrada = math.sqrt(numero)\n",
        "  if raiz_cuadrada % 1 == 0:\n",
        "    numeros_raices_enteras.append(numero)\n",
        "\n",
        "print('Números con raíces cuadradas enteras:', numeros_raices_enteras)\n"
      ],
      "metadata": {
        "colab": {
          "base_uri": "https://localhost:8080/"
        },
        "id": "kb9btflRdt-e",
        "outputId": "1df2595e-132b-4c0c-e82e-3303bc9c6727"
      },
      "execution_count": 44,
      "outputs": [
        {
          "output_type": "stream",
          "name": "stdout",
          "text": [
            "Números con raíces cuadradas enteras: [256]\n"
          ]
        }
      ]
    },
    {
      "cell_type": "code",
      "source": [
        "# Asi lo resolvió el teacher\n",
        "\n",
        "import math\n",
        "numeros = [2, 8, 15, 23, 91, 112, 256]\n",
        "\n",
        "numeros_raices_emteras = [numero for numero in numeros if math.sqrt(numero) % 1 == 0]\n",
        "print('Números con raíces enteras:', numeros_raices_emteras)"
      ],
      "metadata": {
        "colab": {
          "base_uri": "https://localhost:8080/"
        },
        "id": "BEFvpGrefUxg",
        "outputId": "424b3125-b291-4dd6-f244-4c6e711c68e5"
      },
      "execution_count": 45,
      "outputs": [
        {
          "output_type": "stream",
          "name": "stdout",
          "text": [
            "Números con raíces enteras: [256]\n"
          ]
        }
      ]
    },
    {
      "cell_type": "code",
      "source": [
        "'''\n",
        "10 - Haz un programa para una tienda que vende césped para jardines.\n",
        "Esta tienda trabaja con jardines circulares y el precio del metro cuadrado de césped es de R$ 25,00.\n",
        "Pide a la persona usuaria el radio del área circular y devuelve el valor en reales de cuánto tendrá que pagar.\n",
        "'''\n",
        "import math\n",
        "\n",
        "precio = 25.00\n",
        "\n",
        "radio = float(input('Ingrese el radio del área circular: '))\n",
        "\n",
        "superficie = math.pi * math.pow(radio,2)\n",
        "\n",
        "precio_total = superficie * precio\n",
        "\n",
        "print(f'El precio total a pagar es: $ {precio_total:.2f}')\n",
        "\n",
        "# otra opción para imprimir redondeando a cierta cantidad de digitos\n",
        "\n",
        "print(f'El precio total a pagar es: $ {round(precio_total,2)}')\n"
      ],
      "metadata": {
        "colab": {
          "base_uri": "https://localhost:8080/"
        },
        "id": "I2Q8WuqLdwFI",
        "outputId": "267ef57e-7c82-4add-893e-2654987a48d7"
      },
      "execution_count": 52,
      "outputs": [
        {
          "output_type": "stream",
          "name": "stdout",
          "text": [
            "Ingrese el radio del área circular: 10\n",
            "El precio total a pagar es: $ 7853.98\n",
            "El precio total a pagar es: $ 7853.98\n"
          ]
        }
      ]
    }
  ]
}
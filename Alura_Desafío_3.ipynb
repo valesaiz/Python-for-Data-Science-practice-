{
  "nbformat": 4,
  "nbformat_minor": 0,
  "metadata": {
    "colab": {
      "provenance": [],
      "include_colab_link": true
    },
    "kernelspec": {
      "name": "python3",
      "display_name": "Python 3"
    },
    "language_info": {
      "name": "python"
    }
  },
  "cells": [
    {
      "cell_type": "markdown",
      "metadata": {
        "id": "view-in-github",
        "colab_type": "text"
      },
      "source": [
        "<a href=\"https://colab.research.google.com/github/valesaiz/Python-for-Data-Science-practice-/blob/main/Alura_Desaf%C3%ADo_3.ipynb\" target=\"_parent\"><img src=\"https://colab.research.google.com/assets/colab-badge.svg\" alt=\"Open In Colab\"/></a>"
      ]
    },
    {
      "cell_type": "markdown",
      "source": [
        "#**Estructuras de control**\n",
        "\n",
        "###**Entrenando**\n",
        "\n",
        "1 - Escribe un programa que solicite dos números enteros e imprima todos los números enteros entre ellos.\n",
        "\n",
        "2 - Escribe un programa para calcular cuántos días tomará que la colonia de una bacteria A supere o iguale a la colonia de una bacteria B, basado en tasas de crecimiento del 3% y 1.5%, respectivamente. Supón que la colonia A comienza con 4 elementos y B con 10.\n",
        "\n",
        "3 - Para procesar una cantidad de 15 datos de evaluaciones de usuarios de un servicio de la empresa, necesitamos verificar si las calificaciones son válidas. Por lo tanto, escribe un programa que recibirá calificaciones del 0 al 5 y verificará si son valores válidos. Si se ingresa una calificación superior a 5 o inferior a 0, se repetirá hasta que el usuario ingrese un valor válido.\n",
        "\n",
        "4 - Desarrolla un programa que lea un conjunto indefinido de temperaturas en grados Celsius y calcule su promedio. La lectura debe detenerse al ingresar el valor -273°C.\n",
        "\n",
        "5 - Escribe un programa que calcule el factorial de un número entero proporcionado por el usuario. Recuerda que el factorial de un número entero es el producto de ese número por todos sus antecesores hasta llegar al número 1. Por ejemplo, el factorial de 5 es 5 x 4 x 3 x 2 x 1 = 120.\n",
        "\n",
        "###**Momento de los proyectos**\n",
        "\n",
        "6 - Escribe un programa que genere la tabla de multiplicar de un número entero del 1 al 10, según la elección del usuario. Como ejemplo, para el número 2, la tabla de multiplicar debe mostrarse en el siguiente formato:\n",
        "\n",
        "Tabla de multiplicar del 2:\n",
        "2 x 1 = 2\n",
        "2 x 2 = 4\n",
        "[...]\n",
        "2 x 10 = 20\n",
        "\n",
        "7 - Los números primos tienen diversas aplicaciones en Ciencia de Datos, como en criptografía y seguridad. Un número primo es aquel que es divisible solo por sí mismo y por 1. Por lo tanto, crea un programa que solicite un número entero y determine si es un número primo o no.\n",
        "\n",
        "8 - Vamos a comprender la distribución de edades de los pensionistas de una empresa de seguros. Escribe un programa que lea las edades de una cantidad no informada de clientes y muestre la distribución en los intervalos [0-25], [26-50], [51-75] y [76-100]. La entrada de datos se detendrá al ingresar un número negativo.\n",
        "\n",
        "9 - En una elección para la gerencia de una empresa con 20 empleados, hay cuatro candidatos. Escribe un programa que calcule al ganador de la elección. La votación se realizó de la siguiente manera:\n",
        "\n",
        "Cada empleado votó por uno de los cuatro candidatos (representados por los números 1, 2, 3 y 4).\n",
        "\n",
        "También se contaron los votos nulos (representados por el número 5) y los votos en blanco (representados por el número 6).\n",
        "\n",
        "Al final de la votación, el programa debe mostrar el número total de votos para cada candidato, los votos nulos y los votos en blanco. Además, debe calcular y mostrar el porcentaje de votos nulos con respecto al total de votos y el porcentaje de votos en blanco con respecto al total de votos."
      ],
      "metadata": {
        "id": "CjHsoK46iUFu"
      }
    },
    {
      "cell_type": "code",
      "source": [
        "#1 - Escribe un programa que solicite dos números enteros e imprima todos los números enteros entre ellos.\n",
        "\n",
        "entero_1=int(input(\"Ingrese un número entero: \"))\n",
        "entero_2=int(input(\"Ingrese otro número entero: \"))\n",
        "\n",
        "if entero_1 < entero_2:\n",
        "  print('Los números enteros entre los números ingresados son: ')\n",
        "  for i in range(entero_1+1,entero_2):\n",
        "    print(i)\n",
        "elif entero_1 > entero_2:\n",
        "  print('Los números enteros entre los números ingresados son: ')\n",
        "  for i in range(entero_2+1,entero_1):\n",
        "    print(i)\n",
        "else:\n",
        "  print('Los números ingresados son iguales')"
      ],
      "metadata": {
        "id": "efKVa07U7ey-",
        "colab": {
          "base_uri": "https://localhost:8080/"
        },
        "outputId": "60d1c4d6-06df-4b60-d533-b4d4a05d2da4"
      },
      "execution_count": 7,
      "outputs": [
        {
          "output_type": "stream",
          "name": "stdout",
          "text": [
            "Ingrese un número entero: 5\n",
            "Ingrese otro número entero: 5\n",
            "Los números ingresados son iguales\n"
          ]
        }
      ]
    },
    {
      "cell_type": "code",
      "source": [
        "#2 - Escribe un programa para calcular cuántos días tomará que la colonia de una bacteria A supere o iguale a la colonia de una\n",
        "# bacteria B, basado en tasas de crecimiento del 3% y 1.5%, respectivamente. Supón que la colonia A comienza con 4 elementos y B con 10.\n",
        "\n",
        "colonia_A=4\n",
        "colonia_B=10\n",
        "dias=0\n",
        "\n",
        "while colonia_A < colonia_B:\n",
        "  # Usando operadores de asignación\n",
        "  colonia_A *= 1.03    # Es lo mismo que hacer colonia_A = colonia_A * 1.03\n",
        "  colonia_B *= 1.015   # Es lo mismo que hacer olonia_B = colonia_B * 1.015\n",
        "  dias+=1\n",
        "\n",
        "print(f'Tomará {dias} días que la colonia A supere o iguale a la colonia B')\n"
      ],
      "metadata": {
        "colab": {
          "base_uri": "https://localhost:8080/"
        },
        "id": "Euv40yOZ7qBS",
        "outputId": "b0a7b2b4-a00e-4e9b-f0a8-fc9e121de2bb"
      },
      "execution_count": 13,
      "outputs": [
        {
          "output_type": "stream",
          "name": "stdout",
          "text": [
            "Tomará 63 días que la colonia A supere o iguale a la colonia B\n"
          ]
        }
      ]
    },
    {
      "cell_type": "code",
      "source": [
        "#3 - Para procesar una cantidad de 15 datos de evaluaciones de usuarios de un servicio de la empresa, necesitamos verificar si las\n",
        "# calificaciones son válidas. Por lo tanto, escribe un programa que recibirá calificaciones del 0 al 5 y verificará si son valores válidos.\n",
        "# Si se ingresa una calificación superior a 5 o inferior a 0, se repetirá hasta que el usuario ingrese un valor válido.\n",
        "\n",
        "for i in range(0,15):\n",
        "  calificacion=float(input(\"Ingrese una calificación del 0 al 5: \"))\n",
        "  while calificacion < 0 or calificacion > 5:\n",
        "    print('La calificación no es válida')\n",
        "    break4\n",
        "\n",
        "\n",
        "print('Verificación ejecutada con éxito. Todas la notas son válidas')"
      ],
      "metadata": {
        "colab": {
          "base_uri": "https://localhost:8080/"
        },
        "id": "BJetO6eO8HE9",
        "outputId": "cb1190c0-d9b0-4cbe-b297-00f04c38351a"
      },
      "execution_count": 3,
      "outputs": [
        {
          "output_type": "stream",
          "name": "stdout",
          "text": [
            "Ingrese una calificación del 0 al 5: 1\n",
            "Ingrese una calificación del 0 al 5: 2\n",
            "Ingrese una calificación del 0 al 5: 3\n",
            "Ingrese una calificación del 0 al 5: 4\n",
            "Ingrese una calificación del 0 al 5: 5\n",
            "Ingrese una calificación del 0 al 5: 6\n",
            "La calificación no es válida\n",
            "Ingrese una calificación del 0 al 5: 1\n",
            "Ingrese una calificación del 0 al 5: 2\n",
            "Ingrese una calificación del 0 al 5: 3\n",
            "Ingrese una calificación del 0 al 5: 4\n",
            "Ingrese una calificación del 0 al 5: 5\n",
            "Ingrese una calificación del 0 al 5: 6\n",
            "La calificación no es válida\n",
            "Ingrese una calificación del 0 al 5: 1\n",
            "Ingrese una calificación del 0 al 5: 2\n",
            "Ingrese una calificación del 0 al 5: 3\n",
            "Verificación ejecutada con éxito. Todas la notas son válidas\n"
          ]
        }
      ]
    },
    {
      "cell_type": "code",
      "source": [
        "# 4 - Desarrolla un programa que lea un conjunto indefinido de temperaturas en grados Celsius y calcule su promedio.\n",
        "# La lectura debe detenerse al ingresar el valor -273°C.\n",
        "\n",
        "suma_temperaturas = 0\n",
        "cant_temp = 0\n",
        "\n",
        "print('Comenzaremos el ingreso de datos. Cuando quiera finalizar ingrese \"-273\"')\n",
        "\n",
        "temperatura=float(input('Ingrese la temperatura en grados Celsius: '))\n",
        "while temperatura != -273:\n",
        "  suma_temperaturas+=temperatura\n",
        "  cant_temp+=1\n",
        "  temperatura=float(input('Ingrese la temperatura en grados Celsius: '))\n",
        "\n",
        "print(f'El promedio de las temperaturas ingresadas es: {suma_temperaturas/cant_temp}')\n",
        "\n"
      ],
      "metadata": {
        "colab": {
          "base_uri": "https://localhost:8080/"
        },
        "id": "ImzGHM7Cl-05",
        "outputId": "5f962382-ba73-4624-dcbd-7f17a9613d5d"
      },
      "execution_count": 22,
      "outputs": [
        {
          "output_type": "stream",
          "name": "stdout",
          "text": [
            "Comenzaremos el ingreso de datos. Cuando quiera finalizar ingrese \"-273\"\n",
            "Ingrese la temperatura en grados Celsius: 5\n",
            "Ingrese la temperatura en grados Celsius: 15\n",
            "Ingrese la temperatura en grados Celsius: 10\n",
            "Ingrese la temperatura en grados Celsius: 10\n",
            "Ingrese la temperatura en grados Celsius: 10\n",
            "Ingrese la temperatura en grados Celsius: -273\n",
            "El promedio de las temperaturas ingresadas es: 10.0\n"
          ]
        }
      ]
    },
    {
      "cell_type": "code",
      "source": [
        "# 5 - Escribe un programa que calcule el factorial de un número entero proporcionado por el usuario.\n",
        "# Recuerda que el factorial de un número entero es el producto de ese número por todos sus antecesores hasta llegar al número 1.\n",
        "# Por ejemplo, el factorial de 5 es 5 x 4 x 3 x 2 x 1 = 120.\n",
        "\n",
        "entero = int(input('Ingrese un número entero: '))\n",
        "\n",
        "factorial = 1\n",
        "\n",
        "for i in range(1,entero+1):\n",
        "  factorial *= i\n",
        "\n",
        "print(f'El factorial del número {entero} es: {factorial}')"
      ],
      "metadata": {
        "colab": {
          "base_uri": "https://localhost:8080/"
        },
        "id": "hvMdDhrymB9K",
        "outputId": "6e943339-3105-4984-feda-227a96d211a9"
      },
      "execution_count": 25,
      "outputs": [
        {
          "output_type": "stream",
          "name": "stdout",
          "text": [
            "Ingrese un número entero: 5\n",
            "El factorial del número 5 es: 120\n"
          ]
        }
      ]
    },
    {
      "cell_type": "code",
      "source": [
        "'''\n",
        "6 - Escribe un programa que genere la tabla de multiplicar de un número entero del 1 al 10, según la elección del usuario.\n",
        "Como ejemplo, para el número 2, la tabla de multiplicar debe mostrarse en el siguiente formato:\n",
        "Tabla de multiplicar del 2:\n",
        "                            2 x 1 = 2\n",
        "                            2 x 2 = 4\n",
        "                            [...]\n",
        "                            2 x 10 = 20\n",
        "'''\n",
        "\n",
        "numero= int(input('Ingrese el número de la tabla de multiplicar que desea: '))\n",
        "print()\n",
        "print(f'Tabla de multiplicar del {numero}:')\n",
        "\n",
        "for i in range(1,11):\n",
        "  print(f'\\t \\t \\t \\t {numero} x {i} = {numero*i}')"
      ],
      "metadata": {
        "colab": {
          "base_uri": "https://localhost:8080/"
        },
        "id": "QOmYMqtfrOuw",
        "outputId": "798c07be-4dde-4d79-ef43-5372c105be1c"
      },
      "execution_count": 34,
      "outputs": [
        {
          "output_type": "stream",
          "name": "stdout",
          "text": [
            "Ingrese el número de la tabla de multiplicar que desea: 8\n",
            "\n",
            "Tabla de multiplicar del 8:\n",
            "\t \t \t \t 8 x 1 = 8\n",
            "\t \t \t \t 8 x 2 = 16\n",
            "\t \t \t \t 8 x 3 = 24\n",
            "\t \t \t \t 8 x 4 = 32\n",
            "\t \t \t \t 8 x 5 = 40\n",
            "\t \t \t \t 8 x 6 = 48\n",
            "\t \t \t \t 8 x 7 = 56\n",
            "\t \t \t \t 8 x 8 = 64\n",
            "\t \t \t \t 8 x 9 = 72\n",
            "\t \t \t \t 8 x 10 = 80\n"
          ]
        }
      ]
    },
    {
      "cell_type": "code",
      "source": [
        "'''\n",
        "7 - Los números primos tienen diversas aplicaciones en Ciencia de Datos, como en criptografía y seguridad.\n",
        "Un número primo es aquel que es divisible solo por sí mismo y por 1. Por lo tanto, crea un programa que solicite un número entero\n",
        "y determine si es un número primo o no.\n",
        "'''\n",
        "\n",
        "numero = int(input('Ingrese un número entero: '))\n",
        "\n",
        "es_primo = True\n",
        "\n",
        "for i in range(2,numero):\n",
        "  if (numero % i) == 0:\n",
        "    es_primo = False\n",
        "    break\n",
        "  else:\n",
        "    continue\n",
        "\n",
        "if es_primo:\n",
        "  print(f'El número {numero} es primo')\n",
        "else:\n",
        "  print(f'El número {numero} no es primo')\n",
        "\n",
        "\n",
        "\n",
        "\n",
        "\n"
      ],
      "metadata": {
        "colab": {
          "base_uri": "https://localhost:8080/"
        },
        "id": "zkXqCJ30tQO8",
        "outputId": "a6b119f5-cf0e-442e-d54c-8ec226323f72"
      },
      "execution_count": 52,
      "outputs": [
        {
          "output_type": "stream",
          "name": "stdout",
          "text": [
            "Ingrese un número entero: 11\n",
            "El número 11 es primo\n"
          ]
        }
      ]
    },
    {
      "cell_type": "code",
      "source": [
        "'''\n",
        "8 - Vamos a comprender la distribución de edades de los pensionistas de una empresa de seguros.\n",
        "Escribe un programa que lea las edades de una cantidad no informada de clientes y muestre la distribución en\n",
        "los intervalos [0-25], [26-50], [51-75] y [76-100]. La entrada de datos se detendrá al ingresar un número negativo.\n",
        "'''\n",
        "\n",
        "contador_0_25 = 0\n",
        "contador_26_50 = 0\n",
        "contador_51_75 = 0\n",
        "contador_76_100 = 0\n",
        "\n",
        "print('Solicitaremos que ingrese las edades de los pensionistas de la empresa')\n",
        "print('Cuando quiera finalizar ingrese un número negativo')\n",
        "\n",
        "edad = int(input('Ingrese la edad del pensionista: '))\n",
        "\n",
        "while edad >= 0:\n",
        "\n",
        "  if edad >= 0 and edad <= 25:\n",
        "    contador_0_25 += 1\n",
        "  elif edad >= 26 and edad <= 50:\n",
        "    contador_26_50 += 1\n",
        "  elif edad >= 51 and edad <= 75:\n",
        "    contador_51_75 += 1\n",
        "  else:\n",
        "    contador_76_100 += 1\n",
        "\n",
        "  edad = int(input('Ingrese la edad del pensionista: '))\n",
        "\n",
        "print()\n",
        "print('Distribución de edades: ' )\n",
        "print()\n",
        "print('De 0 a 25 años: ', contador_0_25)\n",
        "print('De 26 a 50 años: ', contador_26_50)\n",
        "print('De 51 a 75 años: ', contador_51_75)\n",
        "print('De 76 a 100 años: ', contador_76_100)\n"
      ],
      "metadata": {
        "colab": {
          "base_uri": "https://localhost:8080/"
        },
        "id": "gspXyKontT08",
        "outputId": "003e84ae-c4d3-4f89-8f62-bc4a8dddf266"
      },
      "execution_count": 56,
      "outputs": [
        {
          "output_type": "stream",
          "name": "stdout",
          "text": [
            "Solicitaremos que ingrese las edades de los pensionistas de la empresa\n",
            "Cuando quiera finalizar ingrese un número negativo\n",
            "Ingrese la edad del pensionista: 4\n",
            "Ingrese la edad del pensionista: 4\n",
            "Ingrese la edad del pensionista: 4\n",
            "Ingrese la edad del pensionista: 90\n",
            "Ingrese la edad del pensionista: 6\n",
            "Ingrese la edad del pensionista: 103\n",
            "Ingrese la edad del pensionista: 2\n",
            "Ingrese la edad del pensionista: 0\n",
            "Ingrese la edad del pensionista: -9\n",
            "\n",
            "Distribución de edades: \n",
            "\n",
            "De 0 a 25 años:  6\n",
            "De 26 a 50 años:  0\n",
            "De 51 a 75 años:  0\n",
            "De 76 a 100 años:  2\n"
          ]
        }
      ]
    },
    {
      "cell_type": "markdown",
      "source": [
        "9 - En una elección para la gerencia de una empresa con 20 empleados, hay cuatro candidatos. Escribe un programa que calcule al ganador de la elección. La votación se realizó de la siguiente manera:\n",
        "\n",
        "Cada empleado votó por uno de los cuatro candidatos (representados por los números 1, 2, 3 y 4).\n",
        "\n",
        "También se contaron los votos nulos (representados por el número 5) y los votos en blanco (representados por el número 6).\n",
        "\n",
        "Al final de la votación, el programa debe mostrar el número total de votos para cada candidato, los votos nulos y los votos en blanco. Además, debe calcular y mostrar el porcentaje de votos nulos con respecto al total de votos y el porcentaje de votos en blanco con respecto al total de votos."
      ],
      "metadata": {
        "id": "Jl_pPIs1zzZ5"
      }
    },
    {
      "cell_type": "code",
      "source": [
        "votos_nulos=0\n",
        "votos_en_blanco=0\n",
        "votos_canditato_1 = 0\n",
        "votos_canditato_2 = 0\n",
        "votos_canditato_3 = 0\n",
        "votos_canditato_4 = 0\n",
        "\n",
        "print('Comenzaremos la votación')\n",
        "print('Debe ingresar el número de su candidato (del 1 al 4). Si no desea votar ingrese 5. Si desea votar en blanco ingrese 6.')\n",
        "\n",
        "for i in range(1,21):\n",
        "\n",
        "  voto = int(input('Ingrese su voto: '))\n",
        "  if voto == 1:\n",
        "    votos_canditato_1 += 1\n",
        "  elif voto == 2:\n",
        "    votos_canditato_2 += 1\n",
        "  elif voto == 3:\n",
        "    votos_canditato_3 += 1\n",
        "  elif voto == 4:\n",
        "      votos_canditato_4 += 1\n",
        "  elif voto == 5:\n",
        "        votos_nulos += 1\n",
        "  elif voto == 6:\n",
        "      votos_en_blanco += 1\n",
        "  else:\n",
        "    print('El voto ingresado no es válido')\n",
        "\n",
        "print()\n",
        "print('Resultados de la votación')\n",
        "print()\n",
        "print('\\t Candidato 1: ', votos_canditato_1)\n",
        "print('\\t Candidato 2: ', votos_canditato_2)\n",
        "print('\\t Candidato 3: ', votos_canditato_3)\n",
        "print('\\t Candidato 4: ', votos_canditato_4)\n",
        "print('\\t Votos nulos: ', votos_nulos)\n",
        "print('\\t Votos en blanco: ', votos_en_blanco)\n",
        "print()\n",
        "print('Porcentaje de votos nulos: ', votos_nulos*100/20)\n",
        "print('Porcentaje de votos en blanco: ', votos_en_blanco*100/20)\n"
      ],
      "metadata": {
        "colab": {
          "base_uri": "https://localhost:8080/"
        },
        "id": "x_PIbocDz0iQ",
        "outputId": "7354755b-4ea4-490a-cf48-e5332b92e15e"
      },
      "execution_count": 68,
      "outputs": [
        {
          "output_type": "stream",
          "name": "stdout",
          "text": [
            "Comenzaremos la votación\n",
            "Debe ingresar el número de su candidato (del 1 al 4). Si no desea votar ingrese 5. Si desea votar en blanco ingrese 6.\n",
            "Ingrese su voto: 3\n",
            "Ingrese su voto: 3\n",
            "Ingrese su voto: 3\n",
            "Ingrese su voto: 3\n",
            "Ingrese su voto: 3\n",
            "Ingrese su voto: 8\n",
            "El voto ingresado no es válido\n",
            "Ingrese su voto: 8\n",
            "El voto ingresado no es válido\n",
            "Ingrese su voto: 8\n",
            "El voto ingresado no es válido\n",
            "Ingrese su voto: 8\n",
            "El voto ingresado no es válido\n",
            "Ingrese su voto: 8\n",
            "El voto ingresado no es válido\n",
            "Ingrese su voto: 5\n",
            "Ingrese su voto: 5\n",
            "Ingrese su voto: 5\n",
            "Ingrese su voto: 5\n",
            "Ingrese su voto: 5\n",
            "Ingrese su voto: 6\n",
            "Ingrese su voto: 6\n",
            "Ingrese su voto: 6\n",
            "Ingrese su voto: 6\n",
            "Ingrese su voto: 6\n",
            "\n",
            "Resultados de la votación\n",
            "\n",
            "\t Candidato 1:  0\n",
            "\t Candidato 2:  0\n",
            "\t Candidato 3:  5\n",
            "\t Candidato 4:  0\n",
            "\t Votos nulos:  5\n",
            "\t Votos en blanco:  5\n",
            "\n",
            "Porcentaje de votos nulos:  25.0\n",
            "Porcentaje de votos en blanco:  25.0\n"
          ]
        }
      ]
    }
  ]
}
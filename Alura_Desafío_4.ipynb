{
  "nbformat": 4,
  "nbformat_minor": 0,
  "metadata": {
    "colab": {
      "provenance": [],
      "include_colab_link": true
    },
    "kernelspec": {
      "name": "python3",
      "display_name": "Python 3"
    },
    "language_info": {
      "name": "python"
    }
  },
  "cells": [
    {
      "cell_type": "markdown",
      "metadata": {
        "id": "view-in-github",
        "colab_type": "text"
      },
      "source": [
        "<a href=\"https://colab.research.google.com/github/valesaiz/Python-for-Data-Science-practice-/blob/main/Alura_Desaf%C3%ADo_4.ipynb\" target=\"_parent\"><img src=\"https://colab.research.google.com/assets/colab-badge.svg\" alt=\"Open In Colab\"/></a>"
      ]
    },
    {
      "cell_type": "markdown",
      "source": [
        "#**Listas y Diccionarios**\n",
        "\n",
        "###**Entrenando**\n",
        "\n",
        "1 - Crea un programa que tenga la siguiente lista con los gastos de una empresa de papel [2172.54, 3701.35, 3518.09, 3456.61, 3249.38, 2840.82, 3891.45, 3075.26, 2317.64, 3219.08]. Con estos valores, crea un programa que calcule el promedio de gastos. Sugerencia: usa las funciones integradas sum() y len().\n",
        "\n",
        "2 - Con los mismos datos de la pregunta anterior, determina cuántas compras se realizaron por encima de 3000 reales y calcula el porcentaje con respecto al total de compras.\n",
        "\n",
        "3 - Crea un código que recoja en una lista 5 números enteros aleatorios e imprima la lista. Ejemplo: [1, 4, 7, 2, 4].\n",
        "\n",
        "4 - Recoge nuevamente 5 números enteros e imprime la lista en orden inverso al enviado.\n",
        "\n",
        "5 - Crea un programa que, al ingresar un número cualquiera, genere una lista que contenga todos los números primos entre 1 y el número ingresado.\n",
        "\n",
        "6 - Escribe un programa que pida una fecha, especificando el día, mes y año, y determine si es válida para su análisis.\n",
        "\n",
        "###**Momento de los proyectos**\n",
        "\n",
        "7 - Para un estudio sobre la multiplicación de bacterias en una colonia, se recopiló el número de bacterias multiplicadas por día y se puede observar a continuación: [1.2, 2.1, 3.3, 5.0, 7.8, 11.3, 16.6, 25.1, 37.8, 56.9]. Con estos valores, crea un código que genere una lista que contenga el porcentaje de crecimiento de bacterias por día, comparando el número de bacterias en cada día con el número de bacterias del día anterior. Sugerencia: para calcular el porcentaje de crecimiento, utiliza la siguiente ecuación: 100 * (muestra_actual - muestra_anterior) / muestra_anterior.\n",
        "\n",
        "8 - Para una selección de productos alimenticios, debemos separar el conjunto de IDs proporcionados por números enteros, sabiendo que los productos con ID par son dulces y los que tienen ID impar son amargos. Crea un código que recoja 10 IDs. Luego, calcula y muestra la cantidad de productos dulces y amargos.\n",
        "\n",
        "9 - Desarrolla un programa que informe la puntuación de un estudiante de acuerdo con sus respuestas. Debe pedir la respuesta del estudiante para cada pregunta y verificar si la respuesta coincide con el resultado. Cada pregunta vale un punto y hay opciones A, B, C o D.\n",
        "Resultado del examen:\n",
        "01 - D\n",
        "02 - A\n",
        "03 - C\n",
        "04 - B\n",
        "05 - A\n",
        "06 - D\n",
        "07 - C\n",
        "08 - C\n",
        "09 - A\n",
        "10 - B\n",
        "\n",
        "10 - Un instituto de meteorología desea realizar un estudio de la temperatura media de cada mes del año. Para ello, debes crear un código que recoja y almacene esas temperaturas medias en una lista. Luego, calcula el promedio anual de las temperaturas y muestra todas las temperaturas por encima del promedio anual y en qué mes ocurrieron, mostrando los meses por su nombre (Enero, Febrero, etc.).\n",
        "\n",
        "11 - Una empresa de comercio electrónico está interesada en analizar las ventas de sus productos. Los datos de ventas se han almacenado en un diccionario:\n",
        "{'Producto A': 300, 'Producto B': 80, 'Producto C': 60, 'Producto D': 200, 'Producto E': 250, 'Producto F': 30}\n",
        "Escribe un código que calcule el total de ventas y el producto más vendido.\n",
        "\n",
        "12 - Se realizó una encuesta de mercado para decidir cuál diseño de marca infantil es más atractivo para los niños. Los votos de la encuesta se pueden ver a continuación:\n",
        "Tabla de votos de la marca\n",
        "Diseño 1 - 1334 votos\n",
        "Diseño 2 - 982 votos\n",
        "Diseño 3 - 1751 votos\n",
        "Diseño 4 - 210 votos\n",
        "Diseño 5 - 1811 votos\n",
        "\n",
        "Adapta los datos proporcionados a una estructura de diccionario. A partir de ello, informa el diseño ganador y el porcentaje de votos recibidos.\n",
        "\n",
        "13 - Los empleados de un departamento de tu empresa recibirán una bonificación del 10% de su salario debido a un excelente rendimiento del equipo. El departamento de finanzas ha solicitado tu ayuda para verificar las consecuencias financieras de esta bonificación en los recursos. Se te ha enviado una lista con los salarios que recibirán la bonificación: [1172, 1644, 2617, 5130, 5532, 6341, 6650, 7238, 7685, 7782, 7903]. La bonificación de cada empleado no puede ser inferior a 200. En el código, convierte cada uno de los salarios en claves de un diccionario y la bonificación de cada salario en el valor correspondiente. Luego, informa el gasto total en bonificaciones, cuántos empleados recibieron la bonificación mínima y cuál fue el valor más alto de la bonificación proporcionada.\n",
        "\n",
        "14 - Un equipo de científicos de datos está estudiando la diversidad biológica en un bosque. El equipo recopiló información sobre el número de especies de plantas y animales en cada área del bosque y almacenó estos datos en un diccionario. En él, la clave describe el área de los datos y los valores en las listas corresponden a las especies de plantas y animales en esas áreas, respectivamente.\n",
        "\n",
        "{'Área Norte': [2819, 7236], 'Área Leste': [1440, 9492], 'Área Sul': [5969, 7496], 'Área Oeste': [14446, 49688], 'Área Centro': [22558, 45148]}\n",
        "\n",
        "Escribe un código para calcular el promedio de especies por área e identificar el área con la mayor diversidad biológica. Sugerencia: utiliza las funciones incorporadas sum() y len().\n",
        "\n",
        "15 - El departamento de Recursos Humanos de tu empresa te pidió ayuda para analizar las edades de los colaboradores de 4 sectores de la empresa. Para ello, te proporcionaron los siguientes datos:\n",
        "{'Setor A': [22, 26, 30, 30, 35, 38, 40, 56, 57, 65],\n",
        " 'Setor B': [22, 24, 26, 33, 41, 49, 50, 54, 60, 64],\n",
        " 'Setor C': [23, 26, 26, 29, 34, 35, 36, 41, 52, 56],\n",
        " 'Setor D': [19, 20, 25, 27, 34, 39, 42, 44, 50, 65]}\n",
        " Dado que cada sector tiene 10 colaboradores, construye un código que calcule la media de edad de cada sector, la edad media general entre todos los sectores y cuántas personas están por encima de la edad media general."
      ],
      "metadata": {
        "id": "CjHsoK46iUFu"
      }
    },
    {
      "cell_type": "code",
      "source": [
        "'''\n",
        "1 - Crea un programa que tenga la siguiente lista con los gastos de una empresa de papel\n",
        "[2172.54, 3701.35, 3518.09, 3456.61, 3249.38, 2840.82, 3891.45, 3075.26, 2317.64, 3219.08].\n",
        "Con estos valores, crea un programa que calcule el promedio de gastos. Sugerencia: usa las funciones integradas sum() y len().\n",
        "'''\n",
        "\n",
        "gastos = [2172.54, 3701.35, 3518.09, 3456.61, 3249.38, 2840.82, 3891.45, 3075.26, 2317.64, 3219.08]\n",
        "promedio = sum(gastos) / len(gastos)\n",
        "print(promedio)"
      ],
      "metadata": {
        "id": "efKVa07U7ey-",
        "colab": {
          "base_uri": "https://localhost:8080/"
        },
        "outputId": "d46a7ea2-a713-4dac-a846-b657dd6426e0"
      },
      "execution_count": null,
      "outputs": [
        {
          "output_type": "stream",
          "name": "stdout",
          "text": [
            "3144.222\n"
          ]
        }
      ]
    },
    {
      "cell_type": "code",
      "source": [
        "# 2 - Con los mismos datos de la pregunta anterior, determina cuántas compras se realizaron por encima de 3000 reales\n",
        "# y calcula el porcentaje con respecto al total de compras.\n",
        "\n",
        "cant_compras_mayor_3000 = 0\n",
        "for i in gastos:\n",
        "  if i > 3000:\n",
        "    cant_compras_mayor_3000 += 1\n",
        "\n",
        "print ('La cantidad de compras realizadas es: ', len(gastos))\n",
        "print('La cantidad de compras mayores de 3000 es: ',cant_compras_mayor_3000)\n",
        "porcentaje = cant_compras_mayor_3000 *100  / len(gastos)\n",
        "print('El porcentaje de compras mayores de 3000 es: ',porcentaje)\n"
      ],
      "metadata": {
        "colab": {
          "base_uri": "https://localhost:8080/"
        },
        "id": "LtGhA-G_vEbk",
        "outputId": "0ff91080-f7a0-4eb9-a5b4-f221a7221962"
      },
      "execution_count": null,
      "outputs": [
        {
          "output_type": "stream",
          "name": "stdout",
          "text": [
            "La cantidad de compras realizadas es:  10\n",
            "La cantidad de compras mayores de 3000 es:  7\n",
            "El porcentaje de compras mayores de 3000 es:  70.0\n"
          ]
        }
      ]
    },
    {
      "cell_type": "code",
      "source": [
        "# 3 - Crea un código que recoja en una lista 5 números enteros aleatorios e imprima la lista. Ejemplo: [1, 4, 7, 2, 4].\n",
        "numeros =[]\n",
        "for i in range(5):\n",
        "  numero = int(input('Ingrese un numero entero: '))\n",
        "  numeros.append(numero)\n",
        "\n",
        "print('Los números ingresados son: ', numeros)\n",
        "\n"
      ],
      "metadata": {
        "colab": {
          "base_uri": "https://localhost:8080/"
        },
        "id": "GFH-6gKyvq48",
        "outputId": "df5ea8be-52d3-495e-b958-fbe20cabe885"
      },
      "execution_count": null,
      "outputs": [
        {
          "output_type": "stream",
          "name": "stdout",
          "text": [
            "Ingrese un numero entero: 2\n",
            "Ingrese un numero entero: 45\n",
            "Ingrese un numero entero: 7\n",
            "Ingrese un numero entero: 9999\n",
            "Ingrese un numero entero: 5\n",
            "Los números ingresados son:  [2, 45, 7, 9999, 5]\n"
          ]
        }
      ]
    },
    {
      "cell_type": "code",
      "source": [
        "# 4 - Recoge nuevamente 5 números enteros e imprime la lista en orden inverso al enviado.\n",
        "\n",
        "print('Los números ingresados en orden inverso son: ', numeros[::-1])"
      ],
      "metadata": {
        "id": "SviXvV_oxLHs",
        "colab": {
          "base_uri": "https://localhost:8080/"
        },
        "outputId": "9f81cf9b-3fc9-4143-8289-7da7da7b4389"
      },
      "execution_count": null,
      "outputs": [
        {
          "output_type": "stream",
          "name": "stdout",
          "text": [
            "Los números ingresados en orden inverso son:  [5, 9999, 7, 45, 2]\n"
          ]
        }
      ]
    },
    {
      "cell_type": "markdown",
      "source": [],
      "metadata": {
        "id": "6iuTmaXZz4p1"
      }
    },
    {
      "cell_type": "code",
      "source": [
        "# 5 - Crea un programa que, al ingresar un número cualquiera, genere una lista que contenga todos los números primos\n",
        "# entre 1 y el número ingresado.\n",
        "\n",
        "numero = int(input('Ingrese un número: '))\n",
        "\n",
        "primos = []\n",
        "\n",
        "for n in range (1,numero+1):\n",
        "\n",
        "  es_primo = True\n",
        "  for i in range(2,n):\n",
        "    if (n % i) == 0:\n",
        "      es_primo = False\n",
        "      break\n",
        "\n",
        "  if es_primo:\n",
        "    primos.append(n)\n",
        "\n",
        "print(f'Los números primos hasta {numero} son {primos}')\n",
        "\n"
      ],
      "metadata": {
        "colab": {
          "base_uri": "https://localhost:8080/"
        },
        "id": "OviBTUJJ0cYg",
        "outputId": "86728d94-1ccd-4610-8530-f866f596365e"
      },
      "execution_count": null,
      "outputs": [
        {
          "output_type": "stream",
          "name": "stdout",
          "text": [
            "Ingrese un número: 5\n",
            "Los números primos hasta 5 son [1, 2, 3, 5]\n"
          ]
        }
      ]
    },
    {
      "cell_type": "code",
      "source": [
        "# 6 - Escribe un programa que pida una fecha, especificando el día, mes y año, y determine si es válida para su análisis.\n",
        "\n",
        "print ('Ingrese una fecha')\n",
        "dia = int(input('Día: '))\n",
        "mes = int(input('Mes: '))\n",
        "ano = int(input('Año: '))\n",
        "\n",
        "# Análisis de febrero\n",
        "if mes == 2:\n",
        "  '''Todo año que sea divisible por cuatro es un año bisiesto, excepto aquellos años centenarios (divisibles por 100)\n",
        "     que solo son bisiestos si además son divisibles por 400 .\n",
        "     Ej. El año 2100 no es bisiesto, ya que es divisible por 4, pero no por 400, y termina en 00.\n",
        "     El año 2400 sí es bisiesto, ya que es divisible por 400.\n",
        "  '''\n",
        "  if ano % 4 == 0 and (ano % 400 == 0 or ano % 100 != 0):\n",
        "    dias_febrero = 29\n",
        "  else:\n",
        "    dias_febrero = 28\n",
        "  if dia >=1 and dia <= dias_febrero:\n",
        "    print('La fecha es válida')\n",
        "  else:\n",
        "    print('La fecha no es válida')\n",
        "\n",
        "# Análisis de meses de 31 días\n",
        "elif mes in [1,3,5,7,8,10,12]:\n",
        "  if dia >= 1 and dia <= 31:\n",
        "    print('La fecha es válida')\n",
        "  else:\n",
        "    print('La fecha no es válida')\n",
        "\n",
        "# Análisis de meses de 30 días\n",
        "elif mes in [4,6,9,11]:\n",
        "  if dia >= 1 and dia <= 30:\n",
        "    print('La fecha es válida')\n",
        "  else:\n",
        "    print('La fecha no es válida')\n",
        "\n",
        "# Si el mes no está entre 1 y 12\n",
        "else:\n",
        "  print('El mes no es válido')\n"
      ],
      "metadata": {
        "colab": {
          "base_uri": "https://localhost:8080/"
        },
        "id": "E7GWI2Xqzadh",
        "outputId": "16f16e14-889e-48ac-e4fe-e6997d3ba5cd"
      },
      "execution_count": null,
      "outputs": [
        {
          "output_type": "stream",
          "name": "stdout",
          "text": [
            "Ingrese una fecha\n",
            "Día: 31\n",
            "Mes: 88\n",
            "Año: 2020\n",
            "El mes no es válido\n"
          ]
        }
      ]
    },
    {
      "cell_type": "markdown",
      "source": [
        "7 - Para un estudio sobre la multiplicación de bacterias en una colonia, se recopiló el número de bacterias multiplicadas por día y se puede observar a continuación: [1.2, 2.1, 3.3, 5.0, 7.8, 11.3, 16.6, 25.1, 37.8, 56.9]. Con estos valores, crea un código que genere una lista que contenga el porcentaje de crecimiento de bacterias por día, comparando el número de bacterias en cada día con el número de bacterias del día anterior. Sugerencia: para calcular el porcentaje de crecimiento, utiliza la siguiente ecuación: 100 * (muestra_actual - muestra_anterior) / muestra_anterior."
      ],
      "metadata": {
        "id": "vk5eBm25CfVZ"
      }
    },
    {
      "cell_type": "code",
      "source": [
        "bacterias_por_dia = [1.2, 2.1, 3.3, 5.0, 7.8, 11.3, 16.6, 25.1, 37.8, 56.9]\n",
        "\n",
        "porcentaje_crecimiento = []\n",
        "\n",
        "for i in range(1, len(bacterias_por_dia)):\n",
        "  porcentaje = 100 * (bacterias_por_dia[i] - bacterias_por_dia[i-1]) / bacterias_por_dia[i-1]\n",
        "  porcentaje_crecimiento.append(porcentaje)\n",
        "\n",
        "for i in range (len(porcentaje_crecimiento)):\n",
        "  print(f'El porcentaje de crecimiento del día {i+2} es: {porcentaje_crecimiento[i]:.2f}%')"
      ],
      "metadata": {
        "colab": {
          "base_uri": "https://localhost:8080/"
        },
        "id": "7GuIgtgeCgwi",
        "outputId": "718f9d34-7825-49d0-c8c5-6b5efb15c40c"
      },
      "execution_count": null,
      "outputs": [
        {
          "output_type": "stream",
          "name": "stdout",
          "text": [
            "El porcentaje de crecimiento del día 2 es: 75.00%\n",
            "El porcentaje de crecimiento del día 3 es: 57.14%\n",
            "El porcentaje de crecimiento del día 4 es: 51.52%\n",
            "El porcentaje de crecimiento del día 5 es: 56.00%\n",
            "El porcentaje de crecimiento del día 6 es: 44.87%\n",
            "El porcentaje de crecimiento del día 7 es: 46.90%\n",
            "El porcentaje de crecimiento del día 8 es: 51.20%\n",
            "El porcentaje de crecimiento del día 9 es: 50.60%\n",
            "El porcentaje de crecimiento del día 10 es: 50.53%\n"
          ]
        }
      ]
    },
    {
      "cell_type": "markdown",
      "source": [
        "8 - Para una selección de productos alimenticios, debemos separar el conjunto de IDs proporcionados por números enteros, sabiendo que los productos con ID par son dulces y los que tienen ID impar son amargos. Crea un código que recoja 10 IDs. Luego, calcula y muestra la cantidad de productos dulces y amargos.\n"
      ],
      "metadata": {
        "id": "ck-TZSv7k6jf"
      }
    },
    {
      "cell_type": "code",
      "source": [
        "lista_id = []\n",
        "\n",
        "for i in range(10):\n",
        "  id = int(input('Ingrese un ID de producto alimenticio: '))\n",
        "  lista_id.append(id)\n",
        "\n",
        "contador_dulce = 0\n",
        "contador_amargo = 0\n",
        "\n",
        "for i in lista_id:\n",
        "  if i % 2 == 0:\n",
        "    contador_dulce+=1\n",
        "  else:\n",
        "    contador_amargo+=1\n",
        "\n",
        "print(f'La cantidad de productos dulces es: {contador_dulce}')\n",
        "print(f'La cantidad de productos amargos es: {contador_amargo}')\n",
        "\n"
      ],
      "metadata": {
        "colab": {
          "base_uri": "https://localhost:8080/"
        },
        "id": "cjPFo6qQk_6o",
        "outputId": "25988b9d-dcae-43a1-8cad-3d7e825af338"
      },
      "execution_count": null,
      "outputs": [
        {
          "output_type": "stream",
          "name": "stdout",
          "text": [
            "Ingrese un ID de producto alimenticio: 3\n",
            "Ingrese un ID de producto alimenticio: 3\n",
            "Ingrese un ID de producto alimenticio: 4\n",
            "Ingrese un ID de producto alimenticio: 4\n",
            "Ingrese un ID de producto alimenticio: 5\n",
            "Ingrese un ID de producto alimenticio: 5\n",
            "Ingrese un ID de producto alimenticio: 6\n",
            "Ingrese un ID de producto alimenticio: 6\n",
            "Ingrese un ID de producto alimenticio: 7\n",
            "Ingrese un ID de producto alimenticio: 7\n",
            "La cantidad de productos dulces es: 4\n",
            "La cantidad de productos amargos es: 6\n"
          ]
        }
      ]
    },
    {
      "cell_type": "markdown",
      "source": [
        "\n",
        "9 - Desarrolla un programa que informe la puntuación de un estudiante de acuerdo con sus respuestas. Debe pedir la respuesta del estudiante para cada pregunta y verificar si la respuesta coincide con el resultado. Cada pregunta vale un punto y hay opciones A, B, C o D. Resultado del examen: 01 - D 02 - A 03 - C 04 - B 05 - A 06 - D 07 - C 08 - C 09 - A 10 - B\n"
      ],
      "metadata": {
        "id": "_cAgWLDzk9KS"
      }
    },
    {
      "cell_type": "code",
      "source": [
        "correctas = ['D','A','C','B','A','D','C','C','A','B']\n",
        "\n",
        "respuestas = []\n",
        "\n",
        "for i in range(1,11):\n",
        "  respuesta = input(f'Ingrese la respuesta de la pregunta {i}: ').upper(z)\n",
        "  respuestas.append(respuesta)\n",
        "\n",
        "contador_correctas = 0\n",
        "\n",
        "for i in range(len(respuestas)):\n",
        "  if respuestas[i] == correctas[i]:\n",
        "    contador_correctas+=1\n",
        "\n",
        "print(f'El estudiante respondió {contador_correctas} respuestas de {len(correctas)}')\n"
      ],
      "metadata": {
        "colab": {
          "base_uri": "https://localhost:8080/"
        },
        "id": "4IYl4F3BnmxW",
        "outputId": "b0563841-c5a2-4103-f8ac-f9d4b418bfa5"
      },
      "execution_count": null,
      "outputs": [
        {
          "output_type": "stream",
          "name": "stdout",
          "text": [
            "Ingrese la respuesta de la pregunta 1: d\n",
            "Ingrese la respuesta de la pregunta 2: a\n",
            "Ingrese la respuesta de la pregunta 3: z\n",
            "Ingrese la respuesta de la pregunta 4: z\n",
            "Ingrese la respuesta de la pregunta 5: z\n",
            "Ingrese la respuesta de la pregunta 6: \n",
            "Ingrese la respuesta de la pregunta 7: z\n",
            "Ingrese la respuesta de la pregunta 8: z\n",
            "Ingrese la respuesta de la pregunta 9: z\n",
            "Ingrese la respuesta de la pregunta 10: z\n",
            "El estudiante respondió 2 respuestas de 10\n"
          ]
        }
      ]
    },
    {
      "cell_type": "markdown",
      "source": [
        "\n",
        "10 - Un instituto de meteorología desea realizar un estudio de la temperatura media de cada mes del año. Para ello, debes crear un código que recoja y almacene esas temperaturas medias en una lista. Luego, calcula el promedio anual de las temperaturas y muestra todas las temperaturas por encima del promedio anual y en qué mes ocurrieron, mostrando los meses por su nombre (Enero, Febrero, etc.)."
      ],
      "metadata": {
        "id": "A3IUSUEIk-xB"
      }
    },
    {
      "cell_type": "code",
      "source": [
        "temp_medias = []\n",
        "nombre_meses = ['Enero','Febrero','Marzo','Abril','Mayo','Junio','Julio','Agosto','Septiembre','Octubre','Noviembre','Diciembre']\n",
        "\n",
        "for i in range(0,12):\n",
        "  temp_media = float(input(f'Ingrese la temperatura media del mes {i+1}: '))\n",
        "  temp_medias.append(temp_media)\n",
        "\n",
        "promedio_anual = sum(temp_medias)/len(temp_medias)\n",
        "\n",
        "print(f'El promedio anual de temperatura es: {promedio_anual:.2f}')\n",
        "print()\n",
        "print('Meses por encima del promedio anual: ')\n",
        "\n",
        "for i in range(len(temp_medias)):\n",
        "  if temp_medias[i] > promedio_anual:\n",
        "    print(nombre_meses[i])"
      ],
      "metadata": {
        "colab": {
          "base_uri": "https://localhost:8080/"
        },
        "id": "XeV7-LaupCfc",
        "outputId": "619af366-c3b8-440e-e9bd-878c9e3664c5"
      },
      "execution_count": null,
      "outputs": [
        {
          "output_type": "stream",
          "name": "stdout",
          "text": [
            "Ingrese la temperatura media del mes 1: 33\n",
            "Ingrese la temperatura media del mes 2: 39\n",
            "Ingrese la temperatura media del mes 3: 35\n",
            "Ingrese la temperatura media del mes 4: 28\n",
            "Ingrese la temperatura media del mes 5: 23\n",
            "Ingrese la temperatura media del mes 6: 14\n",
            "Ingrese la temperatura media del mes 7: 8\n",
            "Ingrese la temperatura media del mes 8: 10\n",
            "Ingrese la temperatura media del mes 9: 15\n",
            "Ingrese la temperatura media del mes 10: 23\n",
            "Ingrese la temperatura media del mes 11: 27\n",
            "Ingrese la temperatura media del mes 12: 30\n",
            "El promedio anual de temperatura es: 23.75\n",
            "\n",
            "Meses por encima del promedio anual: \n",
            "Enero\n",
            "Febrero\n",
            "Marzo\n",
            "Abril\n",
            "Noviembre\n",
            "Diciembre\n"
          ]
        }
      ]
    },
    {
      "cell_type": "markdown",
      "source": [
        "11 - Una empresa de comercio electrónico está interesada en analizar las ventas de sus productos. Los datos de ventas se han almacenado en un diccionario: {'Producto A': 300, 'Producto B': 80, 'Producto C': 60, 'Producto D': 200, 'Producto E': 250, 'Producto F': 30} Escribe un código que calcule el total de ventas y el producto más vendido.\n"
      ],
      "metadata": {
        "id": "zkGcFkANsuhE"
      }
    },
    {
      "cell_type": "code",
      "source": [
        "ventas = {'Producto A': 300, 'Producto B': 80, 'Producto C': 60, 'Producto D': 200, 'Producto E': 250, 'Producto F': 30}\n",
        "\n",
        "total_ventas = sum(ventas.values())\n",
        "print(f'El total de ventas es: {total_ventas}')\n",
        "\n",
        "valor_maximo = max(ventas.values())\n",
        "\n",
        "for llave,valor in ventas.items():\n",
        "  if valor == valor_maximo:\n",
        "    print(f'El producto más vendido es: {llave}')\n",
        "    break\n"
      ],
      "metadata": {
        "colab": {
          "base_uri": "https://localhost:8080/"
        },
        "id": "sN0OEke-s5Db",
        "outputId": "86f34114-723f-4a51-c4bd-437d200013ea"
      },
      "execution_count": null,
      "outputs": [
        {
          "output_type": "stream",
          "name": "stdout",
          "text": [
            "El total de ventas es: 920\n",
            "El producto más vendido es: Producto A\n"
          ]
        }
      ]
    },
    {
      "cell_type": "markdown",
      "source": [
        "\n",
        "12 - Se realizó una encuesta de mercado para decidir cuál diseño de marca infantil es más atractivo para los niños. Los votos de la encuesta se pueden ver a continuación: Tabla de votos de la marca Diseño 1 - 1334 votos Diseño 2 - 982 votos Diseño 3 - 1751 votos Diseño 4 - 210 votos Diseño 5 - 1811 votos\n",
        "\n",
        "Adapta los datos proporcionados a una estructura de diccionario. A partir de ello, informa el diseño ganador y el porcentaje de votos recibidos."
      ],
      "metadata": {
        "id": "bYsRu6tgswQ2"
      }
    },
    {
      "cell_type": "code",
      "source": [
        "votos = {'Diseño 1':1334, 'Diseño 2': 982, 'Diseño 3':1751,'Diseño 4':210, 'Diseño 5':1811}\n",
        "\n",
        "total_votos = sum(votos.values())\n",
        "votos_max = max(votos.values())\n",
        "\n",
        "for llave,valor in votos.items():\n",
        "  if valor == votos_max:\n",
        "    porcentaje = valor*100/total_votos\n",
        "    print(f'El ganador es {llave} con un porcentaje de votos de {porcentaje:.2f}%')\n",
        "    break\n"
      ],
      "metadata": {
        "colab": {
          "base_uri": "https://localhost:8080/"
        },
        "id": "LW4bXKdB2U8E",
        "outputId": "5c12a268-7267-43d3-9031-aac86def9c15"
      },
      "execution_count": null,
      "outputs": [
        {
          "output_type": "stream",
          "name": "stdout",
          "text": [
            "El ganador es Diseño 5 con un porcentaje de votos de 29.75%\n"
          ]
        }
      ]
    },
    {
      "cell_type": "code",
      "source": [
        "# OTRA FORMA DE RESOLVER EL EJERCICIO 12 SIN USAR LAS FUNCIONES SUMA NI MAX\n",
        "\n",
        "votos = {'Diseño 1': 1334, 'Diseño 2': 982, 'Diseño 3': 1751, 'Diseño 4': 210, 'Diseño 5': 1811}\n",
        "\n",
        "# Inicializamos las variables\n",
        "total_votos = 0  # Sumará todos los votos\n",
        "ganador = ''  # Almacenará el nombre del diseño ganador\n",
        "voto_ganador = 0  # Almacenará la cantidad ganadora de votos\n",
        "\n",
        "# Recorremos las claves y elementos del diccionario\n",
        "for diseño, voto_diseño in votos.items():\n",
        "    # Sumamos el total de votos\n",
        "    total_votos += voto_diseño\n",
        "    # Verificamos si el voto del diseño actual (voto_diseño) es mayor que el valor almacenado en voto_ganador\n",
        "    # Cada vez que voto_diseño supere el valor en voto_ganador,\n",
        "    # la variable voto_ganador será igual a voto_diseño, asignando un nuevo valor\n",
        "    # De manera similar, el ganador también se actualiza con el diseño actual\n",
        "    if voto_diseño > voto_ganador:\n",
        "        voto_ganador = voto_diseño\n",
        "        ganador = diseño\n",
        "# Calculamos el porcentaje del diseño ganador\n",
        "porcentaje = 100 * (voto_ganador) / (total_votos)\n",
        "\n",
        "# Resultado\n",
        "print(f'{ganador} es el ganador: ')\n",
        "print(f'Porcentaje de votos: {porcentaje:.2f}%')"
      ],
      "metadata": {
        "colab": {
          "base_uri": "https://localhost:8080/"
        },
        "id": "jppoHScP4S6V",
        "outputId": "d388a11b-ce34-4c12-f518-12d7d5c0f7d7"
      },
      "execution_count": null,
      "outputs": [
        {
          "output_type": "stream",
          "name": "stdout",
          "text": [
            "Diseño 5 es el ganador: \n",
            "Porcentaje de votos: 29.75%\n"
          ]
        }
      ]
    },
    {
      "cell_type": "markdown",
      "source": [
        "13 - Los empleados de un departamento de tu empresa recibirán una bonificación del 10% de su salario debido a un excelente rendimiento del equipo. El departamento de finanzas ha solicitado tu ayuda para verificar las consecuencias financieras de esta bonificación en los recursos. Se te ha enviado una lista con los salarios que recibirán la bonificación: [1172, 1644, 2617, 5130, 5532, 6341, 6650, 7238, 7685, 7782, 7903]. La bonificación de cada empleado no puede ser inferior a 200. En el código, convierte cada uno de los salarios en claves de un diccionario y la bonificación de cada salario en el valor correspondiente. Luego, informa el gasto total en bonificaciones, cuántos empleados recibieron la bonificación mínima y cuál fue el valor más alto de la bonificación proporcionada."
      ],
      "metadata": {
        "id": "DKPqXU5i44Yn"
      }
    },
    {
      "cell_type": "code",
      "source": [
        "salarios = [1172, 1644, 2617, 5130, 5532, 6341, 6650, 7238, 7685, 7782, 7903]\n",
        "\n",
        "bonificaciones = {}\n",
        "\n",
        "suma_bonificaciones = 0\n",
        "\n",
        "for salario in salarios:\n",
        "\n",
        "  if salario * 0.1 < 200:\n",
        "    bonificaciones[salario] = 200\n",
        "  else:\n",
        "    bonificaciones[salario] = salario * 0.1\n",
        "\n",
        "  suma_bonificaciones = suma_bonificaciones + bonificaciones[salario]\n",
        "\n",
        "print(f'Salarios y sus bonificaciones: \\n {bonificaciones}')\n",
        "print(f'El gasto total en bonificaciones es: {suma_bonificaciones}')\n",
        "\n",
        "contador_bonificaciones_minimas = 0\n",
        "bonificacion_maxima = 0\n",
        "\n",
        "for salario, bonificacion in bonificaciones.items():\n",
        "  if bonificacion == 200:\n",
        "    contador_bonificaciones_minimas+=1\n",
        "  if bonificacion > bonificacion_maxima:\n",
        "    bonificacion_maxima = bonificacion\n",
        "\n",
        "print(f'La cantidad de empleados que recibieron la bonificación mínima es: {contador_bonificaciones_minimas}')\n",
        "print(f'El valor más alto de la bonificación es: {bonificacion_maxima}')\n"
      ],
      "metadata": {
        "id": "9XvE8LZG_khP",
        "colab": {
          "base_uri": "https://localhost:8080/"
        },
        "outputId": "90893c4a-00e3-4209-ca2a-c54eebcddc0f"
      },
      "execution_count": null,
      "outputs": [
        {
          "output_type": "stream",
          "name": "stdout",
          "text": [
            "Salarios y sus bonificaciones: \n",
            " {1172: 200, 1644: 200, 2617: 261.7, 5130: 513.0, 5532: 553.2, 6341: 634.1, 6650: 665.0, 7238: 723.8000000000001, 7685: 768.5, 7782: 778.2, 7903: 790.3000000000001}\n",
            "El gasto total en bonificaciones es: 6087.8\n",
            "La cantidad de empleados que recibieron la bonificación mínima es: 2\n",
            "El valor más alto de la bonificación es: 790.3000000000001\n"
          ]
        }
      ]
    },
    {
      "cell_type": "code",
      "source": [
        "# Asi lo hizo el profesor\n",
        "\n",
        "# Lista de salarios\n",
        "salarios = [1172, 1644, 2617, 5130, 5532, 6341, 6650, 7238, 7685, 7782, 7903]\n",
        "# Inicializamos las variables\n",
        "diccionario_abonos = {}  # Diccionario de abonos\n",
        "total_abono = 0  # Sumará todos los gastos en abonos\n",
        "abonos_minimo = 0  # Almacenará la cantidad de abonos mínimos\n",
        "mayor_abono = 0  # Almacenará el mayor valor de abono\n",
        "\n",
        "# Recorremos toda la lista de salarios\n",
        "for salario in salarios:\n",
        "    # Calculamos el valor teórico del abono\n",
        "    abono = salario * 0.1\n",
        "    # Si el abono es inferior a 200,\n",
        "    # ajustamos el valor del abono al mínimo (200)\n",
        "    if abono < 200:\n",
        "        abono = 200\n",
        "    # Agregamos un nuevo dato en el diccionario con la clave abono\n",
        "    diccionario_abonos[salario] = abono\n",
        "\n",
        "# Recorremos todos los valores del diccionario de abonos\n",
        "for abono in diccionario_abonos.values():\n",
        "    # Contamos los salarios mínimos\n",
        "    if abono == 200:\n",
        "        abonos_minimo += 1\n",
        "    # Verificamos si el abono leído es mayor que el valor almacenado en mayor_abono\n",
        "    # Cada vez que el abono supere el valor de mayor_abono,\n",
        "    # la variable mayor_abono será igual al abono, asignando un nuevo valor\n",
        "    if abono > mayor_abono:\n",
        "        mayor_abono = abono\n",
        "    # Sumamos los abonos\n",
        "    total_abono += abono\n",
        "# Resultados\n",
        "print(f'Abonos: {diccionario_abonos}')\n",
        "print(f'Total de gastos en abonos: {total_abono}')\n",
        "print(f'Número de empleados que recibieron el abono mínimo: {abonos_minimo}')\n",
        "print(f'Mayor valor de abono: {mayor_abono}')"
      ],
      "metadata": {
        "colab": {
          "base_uri": "https://localhost:8080/"
        },
        "id": "5IRLDQjiJWmJ",
        "outputId": "31816526-2218-4dba-ca29-f16be326bd63"
      },
      "execution_count": null,
      "outputs": [
        {
          "output_type": "stream",
          "name": "stdout",
          "text": [
            "Abonos: {1172: 200, 1644: 200, 2617: 261.7, 5130: 513.0, 5532: 553.2, 6341: 634.1, 6650: 665.0, 7238: 723.8000000000001, 7685: 768.5, 7782: 778.2, 7903: 790.3000000000001}\n",
            "Total de gastos en abonos: 6087.8\n",
            "Número de empleados que recibieron el abono mínimo: 2\n",
            "Mayor valor de abono: 790.3000000000001\n"
          ]
        }
      ]
    },
    {
      "cell_type": "markdown",
      "source": [
        "14 - Un equipo de científicos de datos está estudiando la diversidad biológica en un bosque. El equipo recopiló información sobre el número de especies de plantas y animales en cada área del bosque y almacenó estos datos en un diccionario. En él, la clave describe el área de los datos y los valores en las listas corresponden a las especies de plantas y animales en esas áreas, respectivamente.\n",
        "\n",
        "{'Área Norte': [2819, 7236], 'Área Leste': [1440, 9492], 'Área Sul': [5969, 7496], 'Área Oeste': [14446, 49688], 'Área Centro': [22558, 45148]}\n",
        "\n",
        "Escribe un código para calcular el promedio de especies por área e identificar el área con la mayor diversidad biológica. Sugerencia: utiliza las funciones incorporadas sum() y len().\n",
        "\n"
      ],
      "metadata": {
        "id": "CdFIrJcYKHJt"
      }
    },
    {
      "cell_type": "code",
      "source": [
        "# Diccionario {AREA:[PLANTAS,ANIMALES]}\n",
        "diversidad = {'Área Norte': [2819, 7236],\n",
        "              'Área Leste': [1440, 9492],\n",
        "              'Área Sul': [5969, 7496],\n",
        "              'Área Oeste': [14446, 49688],\n",
        "              'Área Centro': [22558, 45148]}\n",
        "\n",
        "mayor_diversidad = 0\n",
        "for area,especies in diversidad.items():\n",
        "  promedio = sum(especies)/len(especies)\n",
        "  print(f'El {area} tiene un promedio de {promedio} especies')\n",
        "  if promedio > mayor_diversidad:\n",
        "    mayor_diversidad = promedio\n",
        "    area_mayor_diversidad = area\n",
        "\n",
        "print(f'El área con la mayor diversidad biológica es: {area_mayor_diversidad}')\n",
        "\n"
      ],
      "metadata": {
        "colab": {
          "base_uri": "https://localhost:8080/"
        },
        "id": "x45FNkF4KQEQ",
        "outputId": "e97adc43-5083-4f4a-bdb9-2f0987e5e740"
      },
      "execution_count": 15,
      "outputs": [
        {
          "output_type": "stream",
          "name": "stdout",
          "text": [
            "El Área Norte tiene un promedio de 5027.5 especies\n",
            "El Área Leste tiene un promedio de 5466.0 especies\n",
            "El Área Sul tiene un promedio de 6732.5 especies\n",
            "El Área Oeste tiene un promedio de 32067.0 especies\n",
            "El Área Centro tiene un promedio de 33853.0 especies\n",
            "El área con la mayor diversidad biológica es: Área Centro\n"
          ]
        }
      ]
    },
    {
      "cell_type": "code",
      "source": [
        "# Así lo realizó el profesor\n",
        "\n",
        "# Especificamos los datos para un diccionario\n",
        "datos = {'Área Norte': [2819, 7236],\n",
        "         'Área Este': [1440, 9492],\n",
        "         'Área Sur': [5969, 7496],\n",
        "         'Área Oeste': [14446, 49688],\n",
        "         'Área Centro': [22558, 45148]}\n",
        "# Inicializamos las variables\n",
        "suma_media = 0  # Sumará todos los promedios\n",
        "mayor_diversidad = ''  # Almacenará el área con la mayor diversidad\n",
        "mayor_suma = 0  # Almacenará la mayor suma de especies\n",
        "# Recorremos las claves y elementos del diccionario\n",
        "for área, especies in datos.items():\n",
        "    # Sumamos el número de especies en cada área utilizando la función sum\n",
        "    suma_especies = sum(especies)\n",
        "    # Calculamos el promedio dividiendo la suma de las especies entre la cantidad de especies\n",
        "    media = suma_especies / len(especies)\n",
        "    # Imprimimos\n",
        "    print(f'El {área} tiene un promedio de {media} especies')\n",
        "    # Verificamos si la suma de especies es mayor que el valor almacenado de mayor_suma\n",
        "    # Cada vez que suma_especies supere el valor de mayor_suma,\n",
        "    # la variable mayor_suma será igual a suma_especies, asignando un nuevo valor\n",
        "    # De manera similar, mayor_diversidad también se actualiza\n",
        "    if suma_especies > mayor_suma:\n",
        "        mayor_suma = suma_especies\n",
        "        mayor_diversidad = área\n",
        "    # Sumamos los promedios\n",
        "    suma_media += media\n",
        "# La media total será la suma_media dividida por la cantidad de áreas\n",
        "media_total = suma_media / len(datos)\n",
        "print(f'Media general de especies: {media_total}')\n",
        "print(f'Área con la mayor diversidad biológica: {mayor_diversidad}')"
      ],
      "metadata": {
        "colab": {
          "base_uri": "https://localhost:8080/"
        },
        "id": "yXHBbQu5bkDj",
        "outputId": "0571710a-f5bb-456e-c6ca-0adcda54de3d"
      },
      "execution_count": null,
      "outputs": [
        {
          "output_type": "stream",
          "name": "stdout",
          "text": [
            "El Área Norte tiene un promedio de 5027.5 especies\n",
            "El Área Este tiene un promedio de 5466.0 especies\n",
            "El Área Sur tiene un promedio de 6732.5 especies\n",
            "El Área Oeste tiene un promedio de 32067.0 especies\n",
            "El Área Centro tiene un promedio de 33853.0 especies\n",
            "Media general de especies: 16629.2\n",
            "Área con la mayor diversidad biológica: Área Centro\n"
          ]
        }
      ]
    },
    {
      "cell_type": "markdown",
      "source": [
        "15 - El departamento de Recursos Humanos de tu empresa te pidió ayuda para analizar las edades de los colaboradores de 4 sectores de la empresa. Para ello, te proporcionaron los siguientes datos: {'Setor A': [22, 26, 30, 30, 35, 38, 40, 56, 57, 65], 'Setor B': [22, 24, 26, 33, 41, 49, 50, 54, 60, 64], 'Setor C': [23, 26, 26, 29, 34, 35, 36, 41, 52, 56], 'Setor D': [19, 20, 25, 27, 34, 39, 42, 44, 50, 65]} Dado que cada sector tiene 10 colaboradores, construye un código que calcule la media de edad de cada sector, la edad media general entre todos los sectores y cuántas personas están por encima de la edad media general."
      ],
      "metadata": {
        "id": "chgHBzXWKQbD"
      }
    },
    {
      "cell_type": "code",
      "source": [
        "edades_por_sector = {'Sector A': [22, 26, 30, 30, 35, 38, 40, 56, 57, 65],\n",
        "                     'Sector B': [22, 24, 26, 33, 41, 49, 50, 54, 60, 64],\n",
        "                     'Sector C': [23, 26, 26, 29, 34, 35, 36, 41, 52, 56],\n",
        "                     'Sector D': [19, 20, 25, 27, 34, 39, 42, 44, 50, 65]}\n",
        "\n",
        "suma_edades = 0\n",
        "for sector,edades in edades_por_sector.items():\n",
        "  promedio = sum(edades)/len(edades)\n",
        "  print(f'La media de edad del {sector} es: {promedio}')\n",
        "  suma_edades = suma_edades + sum(edades)\n",
        "\n",
        "promedio_general = suma_edades/(len(edades_por_sector)*len(edades))\n",
        "print(f'La edad media general es: {promedio_general}')\n",
        "\n",
        "contador_mayores = 0\n",
        "for sector,edades in edades_por_sector.items():\n",
        "  for edad in edades:\n",
        "    if edad > promedio_general:\n",
        "      contador_mayores+=1\n",
        "\n",
        "print(f'La cantidad de personas que están por encima de la edad media general es: {contador_mayores}')"
      ],
      "metadata": {
        "id": "tWDMlNN9KREF",
        "colab": {
          "base_uri": "https://localhost:8080/"
        },
        "outputId": "d1ed7199-26b1-4938-d5e3-123b9f17ee41"
      },
      "execution_count": 12,
      "outputs": [
        {
          "output_type": "stream",
          "name": "stdout",
          "text": [
            "La media de edad del Sector A es: 39.9\n",
            "La media de edad del Sector B es: 42.3\n",
            "La media de edad del Sector C es: 35.8\n",
            "La media de edad del Sector D es: 36.5\n",
            "La edad media general es: 38.625\n",
            "La cantidad de personas que están por encima de la edad media general es: 18\n"
          ]
        }
      ]
    }
  ]
}
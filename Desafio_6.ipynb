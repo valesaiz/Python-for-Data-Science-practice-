{
  "nbformat": 4,
  "nbformat_minor": 0,
  "metadata": {
    "colab": {
      "provenance": [],
      "authorship_tag": "ABX9TyOoNWk9R97kNja/d2mfSTu9",
      "include_colab_link": true
    },
    "kernelspec": {
      "name": "python3",
      "display_name": "Python 3"
    },
    "language_info": {
      "name": "python"
    }
  },
  "cells": [
    {
      "cell_type": "markdown",
      "metadata": {
        "id": "view-in-github",
        "colab_type": "text"
      },
      "source": [
        "<a href=\"https://colab.research.google.com/github/valesaiz/Python-for-Data-Science-practice-/blob/main/Desafio_6.ipynb\" target=\"_parent\"><img src=\"https://colab.research.google.com/assets/colab-badge.svg\" alt=\"Open In Colab\"/></a>"
      ]
    },
    {
      "cell_type": "markdown",
      "source": [
        "# Calentamiento\n",
        "\n",
        "1 - Escribe un código que lee la lista siguiente y realiza:\n",
        "\n",
        "lista = [16, 14, 63, 65, 17, 99, 70, 11, 20, 48, 79, 32, 17, 89, 12, 25, 66]\n",
        "1. Leer el tamaño de la lista\n",
        "2. Leer el valor máximo y mínimo\n",
        "3. Calcular la suma de los valores de la lista\n",
        "4. Mostrar un mensaje al final: La lista tiene `tamano` números, donde el mayor es `mayor` y el menor es `menor`. La suma de los valores es `suma`."
      ],
      "metadata": {
        "id": "i2H6ad6FmdZe"
      }
    },
    {
      "cell_type": "code",
      "execution_count": 2,
      "metadata": {
        "colab": {
          "base_uri": "https://localhost:8080/"
        },
        "id": "Tfnygw5nmTDk",
        "outputId": "ba13fb2f-cfd1-43c3-ea08-5ed112570ce2"
      },
      "outputs": [
        {
          "output_type": "stream",
          "name": "stdout",
          "text": [
            "La lista tiene 17 números, donde el mayor es 99 y el menor es 11. La suma de los valores es 743.\n"
          ]
        }
      ],
      "source": [
        "lista = [16, 14, 63, 65, 17, 99, 70, 11, 20, 48, 79, 32, 17, 89, 12, 25, 66]\n",
        "\n",
        "len(lista)\n",
        "\n",
        "max(lista)\n",
        "\n",
        "min(lista)\n",
        "\n",
        "sum(lista)\n",
        "\n",
        "print(f\"La lista tiene {len(lista)} números, donde el mayor es {max(lista)} y el menor es {min(lista)}. La suma de los valores es {sum(lista)}.\")\n"
      ]
    },
    {
      "cell_type": "markdown",
      "source": [
        "2 - Escribe una función que genere la tabla de multiplicar de un número entero del 1 al 10, según la elección del usuario. Como ejemplo, para el número 7, la tabla de multiplicar se debe mostrar en el siguiente formato:\n",
        "\n",
        "Tabla del  7:\n",
        "7 x 0 = 0\n",
        "7 x 1 = 7\n",
        "[...]\n",
        "7 x 10 = 70\n",
        "\n",
        "\n"
      ],
      "metadata": {
        "id": "jTAXFz-NmeBv"
      }
    },
    {
      "cell_type": "code",
      "source": [
        "def tabla_multiplicar(humero):\n",
        "  print (f'Tabla de multiplicar del {numero}:')\n",
        "  for i in range(0,11):\n",
        "    print(f'{numero} x {i} = {numero*i}')\n",
        "\n",
        "numero = int(input('Ingrese un número: '))\n",
        "tabla_multiplicar(numero)"
      ],
      "metadata": {
        "colab": {
          "base_uri": "https://localhost:8080/"
        },
        "id": "EIkYNpbRns5z",
        "outputId": "9135969d-b006-4d90-9a58-14fda57a28d1"
      },
      "execution_count": 6,
      "outputs": [
        {
          "output_type": "stream",
          "name": "stdout",
          "text": [
            "Ingrese un número: 8\n",
            "Tabla de multiplicar del 8:\n",
            "8 x 0 = 0\n",
            "8 x 1 = 8\n",
            "8 x 2 = 16\n",
            "8 x 3 = 24\n",
            "8 x 4 = 32\n",
            "8 x 5 = 40\n",
            "8 x 6 = 48\n",
            "8 x 7 = 56\n",
            "8 x 8 = 64\n",
            "8 x 9 = 72\n",
            "8 x 10 = 80\n"
          ]
        }
      ]
    },
    {
      "cell_type": "markdown",
      "source": [
        "3 - Crea una función que lea la siguiente lista y devuelva una nueva lista con los múltiplos de 3:\n",
        "\n",
        "[97, 80, 94, 88, 80, 1, 16, 53, 62, 32, 24, 99]\n"
      ],
      "metadata": {
        "id": "PCKLyJ6AniUf"
      }
    },
    {
      "cell_type": "code",
      "source": [
        "def multiplos_de_3(lista):\n",
        "  lista_multiplos = []\n",
        "  for i in lista:\n",
        "    if i % 3 == 0:\n",
        "      lista_multiplos.append(i)\n",
        "  return lista_multiplos\n",
        "\n",
        "lista = [97, 80, 94, 88, 80, 1, 16, 53, 62, 32, 24, 99]\n",
        "print(multiplos_de_3(lista))"
      ],
      "metadata": {
        "colab": {
          "base_uri": "https://localhost:8080/"
        },
        "id": "WpuejJG3oH9C",
        "outputId": "e1618faa-c81f-4753-eb43-006177edeced"
      },
      "execution_count": 7,
      "outputs": [
        {
          "output_type": "stream",
          "name": "stdout",
          "text": [
            "[24, 99]\n"
          ]
        }
      ]
    },
    {
      "cell_type": "code",
      "source": [
        "# Asi lo hizo el profesor\n",
        "\n",
        "def multiplos_de_3  (lista):\n",
        "  return [num for num in lista if num % 3 == 0]\n",
        "\n",
        "lista = [97, 80, 94, 88, 80, 1, 16, 53, 62, 32, 24, 99]\n",
        "print (multiplos_de_3(lista))\n"
      ],
      "metadata": {
        "colab": {
          "base_uri": "https://localhost:8080/"
        },
        "id": "b0pIOXZuoId-",
        "outputId": "3c357431-5194-42e8-9ee1-bd57db2b464e"
      },
      "execution_count": 9,
      "outputs": [
        {
          "output_type": "stream",
          "name": "stdout",
          "text": [
            "[24, 99]\n"
          ]
        }
      ]
    },
    {
      "cell_type": "markdown",
      "source": [
        "4 - Crea una lista de los cuadrados de los números de la siguiente lista [1, 2, 3, 4, 5, 6, 7, 8, 9, 10]. Recuerda utilizar las funciones lambda y map() para calcular el cuadrado de cada elemento de la lista.\n"
      ],
      "metadata": {
        "id": "QlT4mTzbni7C"
      }
    },
    {
      "cell_type": "code",
      "source": [
        "lista = [1, 2, 3, 4, 5, 6, 7, 8, 9, 10]\n",
        "\n",
        "cuadrados = list(map(lambda x: x**2, lista))\n",
        "print(cuadrados)"
      ],
      "metadata": {
        "colab": {
          "base_uri": "https://localhost:8080/"
        },
        "id": "4iTE0TYDBmDU",
        "outputId": "f3d79ed6-6cab-4149-d185-c47b8b67f92f"
      },
      "execution_count": 10,
      "outputs": [
        {
          "output_type": "stream",
          "name": "stdout",
          "text": [
            "[1, 4, 9, 16, 25, 36, 49, 64, 81, 100]\n"
          ]
        }
      ]
    },
    {
      "cell_type": "markdown",
      "source": [
        "# Aplicando a proyectos\n",
        "\n",
        "5 - Has sido contratado como científico(a) de datos de una asociación de skate. Para analizar las notas recibidas por los skaters en algunas competiciones a lo largo del año, necesitas crear un código que calcule la puntuación de los atletas. Para ello, tu código debe recibir 5 notas ingresadas por los jueces.\n",
        "\n"
      ],
      "metadata": {
        "id": "MWTCiynAnoDp"
      }
    },
    {
      "cell_type": "code",
      "source": [
        "notas=[]\n",
        "for i in range(5):\n",
        "  nota = float(input(f'Ingrese la nota de juez {i+1}: '))\n",
        "  notas.append(nota)\n",
        "\n",
        "media = sum(notas)/5\n",
        "\n",
        "print(round(media,2))"
      ],
      "metadata": {
        "colab": {
          "base_uri": "https://localhost:8080/"
        },
        "id": "FPGuSRLSCH_v",
        "outputId": "073b79e4-a777-43dc-c0cf-495aff308c6c"
      },
      "execution_count": 26,
      "outputs": [
        {
          "output_type": "stream",
          "name": "stdout",
          "text": [
            "Ingrese la nota de juez 1: 4\n",
            "Ingrese la nota de juez 2: 5\n",
            "Ingrese la nota de juez 3: 6\n",
            "Ingrese la nota de juez 4: 8\n",
            "Ingrese la nota de juez 5: 10\n",
            "6.6\n"
          ]
        }
      ]
    },
    {
      "cell_type": "markdown",
      "source": [
        "6 - Para cumplir con una demanda de una institución educativa para el análisis del rendimiento de sus estudiantes, necesitas crear una función que reciba una lista de 4 notas y devuelva:\n",
        "\n",
        "mayor nota\n",
        "menor nota\n",
        "media\n",
        "situación (Aprobado(a) o Reprobado(a))\n",
        "Uso de la función\n",
        "Mostrar: El estudiante obtuvo una media de `media`, con la mayor nota de `mayor` puntos y la menor nota de `menor` puntos y fue `situacion`.)\n",
        "\n"
      ],
      "metadata": {
        "id": "Y5LYdcW7CAPx"
      }
    },
    {
      "cell_type": "code",
      "source": [
        "def analisis_notas(notas):\n",
        "  mayor = max(notas)\n",
        "  menor = min(notas)\n",
        "  media = round(sum(notas)/len(notas),2)\n",
        "  if media >= 6:\n",
        "    situacion = \"Aprobado/a)\"\n",
        "  else:\n",
        "    situacion = \"Reprobado/a)\"\n",
        "  return mayor,menor,media,situacion\n",
        "\n",
        "notas = [float(input(f'Ingrese la nota {i+1}: ')) for i in range(4)]\n",
        "resultado = analisis_notas(notas)\n",
        "print(f'El estudiante obtuvo una media de {resultado[2]}, con la mayor nota de {resultado[0]} puntos y la menor nota de {resultado[1] }puntos y fue {resultado[3]}.')"
      ],
      "metadata": {
        "colab": {
          "base_uri": "https://localhost:8080/"
        },
        "id": "MmRYDazICJBi",
        "outputId": "b9e1b2d1-1623-4ae4-87bd-bfcf642e351c"
      },
      "execution_count": 33,
      "outputs": [
        {
          "output_type": "stream",
          "name": "stdout",
          "text": [
            "Ingrese la nota 1: 2\n",
            "Ingrese la nota 2: 5.5\n",
            "Ingrese la nota 3: 10\n",
            "Ingrese la nota 4: 8.3\n",
            "El estudiante obtuvo una media de 6.45, con la mayor nota de 10.0 puntos y la menor nota de 2.0puntos y fue Aprobado/a).\n"
          ]
        }
      ]
    },
    {
      "cell_type": "markdown",
      "source": [
        "7 - Has recibido una demanda para tratar 2 listas con los nombres y apellidos de cada estudiante concatenándolos para presentar sus nombres completos en la forma Nombre Apellido. Las listas son:\n",
        "\n",
        "nombres = [\"juan\", \"MaRia\", \"JOSÉ\"]\n",
        "apellidos = [\"SILVA\", \"sosa\", \"Tavares\"]\n",
        "\n",
        "Normalizar nombres y apellidos y crear una nueva lista con los nombres completos\n",
        "Puedes apoyarte en la función map()\n",
        "\n"
      ],
      "metadata": {
        "id": "TEk273abCEo1"
      }
    },
    {
      "cell_type": "code",
      "source": [
        "def Nombre_Apellido(nombres,apellidos):\n",
        "  return list(map(lambda x,y: x.capitalize() + \" \" + y.capitalize(), nombres,apellidos))\n",
        "\n",
        "nombres = [\"juan\", \"MaRia\", \"JOSÉ\"]\n",
        "apellidos = [\"SILVA\", \"sosa\", \"Tavares\"]\n",
        "nombre_apellido = Nombre_Apellido(nombres,apellidos)\n",
        "print(nombre_apellido)\n"
      ],
      "metadata": {
        "colab": {
          "base_uri": "https://localhost:8080/"
        },
        "id": "w1FWZ9QCHsCP",
        "outputId": "5b621326-f7be-47af-d724-838f04cfc139"
      },
      "execution_count": 39,
      "outputs": [
        {
          "output_type": "stream",
          "name": "stdout",
          "text": [
            "['Juan Silva', 'Maria Sosa', 'José Tavares']\n"
          ]
        }
      ]
    },
    {
      "cell_type": "code",
      "source": [
        "# El profesor lo hizo así\n",
        "\n",
        "nombres = [\"juan\", \"MaRia\", \"JOSÉ\"]\n",
        "apellidos = [\"SILVA\", \"sosa\", \"Tavares\"]\n",
        "\n",
        "nombres_normalizados = map(lambda x: x.capitalize(), nombres)\n",
        "apellidos_normalizados = map(lambda x: x.capitalize(), apellidos)\n",
        "\n",
        "nombres_completos = list(map(lambda x, y: x + \" \" + y, nombres_normalizados, apellidos_normalizados))\n",
        "print(nombres_completos)\n"
      ],
      "metadata": {
        "colab": {
          "base_uri": "https://localhost:8080/"
        },
        "id": "OjFsOtmVP63P",
        "outputId": "43c90bb1-717e-47c1-ceee-23d7927e5001"
      },
      "execution_count": 40,
      "outputs": [
        {
          "output_type": "stream",
          "name": "stdout",
          "text": [
            "['Juan Silva', 'Maria Sosa', 'José Tavares']\n"
          ]
        }
      ]
    },
    {
      "cell_type": "markdown",
      "source": [
        "8 - Como científico de datos en un equipo de fútbol, necesitas implementar nuevas formas de recopilación de datos sobre el rendimiento de los jugadores y del equipo en su conjunto. Tu primera acción es crear una forma de calcular la puntuación del equipo en el campeonato nacional a partir de los datos de goles marcados y recibidos en cada juego.\n",
        "\n",
        "Escribe una función llamada calcula_puntos() que recibe como parámetros dos listas de números enteros, representando los goles marcados y recibidos por el equipo en cada partido del campeonato. La función debe devolver la puntuación del equipo y el rendimiento en porcentaje, teniendo en cuenta que la victoria vale 3 puntos, el empate 1 punto y la derrota 0 puntos.\n",
        "\n",
        "Nota: si la cantidad de goles marcados en un partido es mayor que los recibidos, el equipo ganó. En caso de ser igual, el equipo empató, y si es menor, el equipo perdió. Para calcular el rendimiento, debemos hacer la razón entre la puntuación del equipo y la puntuación máxima que podría recibir.\n",
        "\n",
        "Para la prueba, utiliza las siguientes listas de goles marcados y recibidos:\n",
        "\n",
        "goles_marcados = [2, 1, 3, 1, 0]\n",
        "goles_recibidos = [1, 2, 2, 1, 3]\n",
        "Texto probablemente mostrado:\n",
        "La puntuación del equipo fue `puntos` y su rendimiento fue `desempeno`%\"\n",
        "\n"
      ],
      "metadata": {
        "id": "9mli911rHn7b"
      }
    },
    {
      "cell_type": "code",
      "source": [
        "goles_marcados = [2, 1, 3, 1, 0]\n",
        "goles_sofridos = [1, 2, 2, 1, 3]\n",
        "\n",
        "def calcula_puntos(goles_marcados, goles_sofridos):\n",
        "  puntos = 0\n",
        "  for i in range(len(goles_marcados)):\n",
        "    if goles_marcados[i] > goles_sofridos[i]:\n",
        "      puntos += 3\n",
        "    elif goles_marcados[i] == goles_sofridos[i]:\n",
        "      puntos += 1\n",
        "  aprob = 100 * puntos / (len(goles_marcados) * 3)\n",
        "  return (puntos, aprob)\n",
        "\n",
        "puntos, aprob = calcula_puntos(goles_marcados, goles_sofridos)\n",
        "print(f\"La puntuación del equipo fue de {puntos} y su rendimiento fue de {round(aprob)}%\")"
      ],
      "metadata": {
        "colab": {
          "base_uri": "https://localhost:8080/"
        },
        "id": "ZeOeJnPnHgR5",
        "outputId": "f505346a-0bce-445f-97e2-ff2f1f280df7"
      },
      "execution_count": 41,
      "outputs": [
        {
          "output_type": "stream",
          "name": "stdout",
          "text": [
            "La puntuación del equipo fue de 7 y su rendimiento fue de 47%\n"
          ]
        }
      ]
    },
    {
      "cell_type": "markdown",
      "source": [
        "9 - Te han desafiado a crear un código que calcule los gastos de un viaje a una de las cuatro ciudades desde Recife, siendo ellas: Salvador, Fortaleza, Natal y Aracaju.\n",
        "\n",
        "El costo diario del hotel es de 150 reales en todas ellas y el consumo de gasolina en el viaje en coche es de 14 km/l, siendo que el precio de la gasolina es de 5 reales por litro. Los gastos con paseos y alimentación a realizar en cada una de ellas por día serían [200, 400, 250, 300], respectivamente.\n",
        "\n",
        "Sabiendo que las distancias entre Recife y cada una de las ciudades son aproximadamente [850, 800, 300, 550] km, crea tres funciones: la primera función calcula los gastos de hotel (gasto_hotel), la segunda calcula los gastos de gasolina (gasto_gasolina) y la tercera los gastos de paseo y alimentación (gasto_paseo).\n",
        "\n",
        "Para probar, simula un viaje de 3 días a Salvador desde Recife. Considera el viaje de ida y vuelta en coche.\n",
        "\n",
        "Texto probablemente mostrado:\n",
        "Con base en los gastos definidos, un viaje de [dias] días a [ciudad] desde\n",
        "Recife costaría [gastos] reales.\n",
        "\n"
      ],
      "metadata": {
        "id": "-4_-t5saQYUG"
      }
    },
    {
      "cell_type": "code",
      "source": [
        "dias = int(input(\"¿Cuántas diarias? \"))\n",
        "ciudad = input(\"¿Cuál es la ciudad? [Salvador, Fortaleza, Natal o Aracaju]: \")\n",
        "distancias = [850, 800, 300, 550]\n",
        "paseo = [200, 400, 250, 300]\n",
        "km_l = 14\n",
        "gasolina = 5\n",
        "\n",
        "def gasto_hotel(dias):\n",
        "    return 150 * dias\n",
        "\n",
        "def gasto_gasolina(ciudad):\n",
        "    if ciudad == \"Salvador\":\n",
        "        return (2 * distancias[0] * gasolina) / km_l\n",
        "    elif ciudad == \"Fortaleza\":\n",
        "        return (2 * distancias[1] * gasolina) / km_l\n",
        "    elif ciudad == \"Natal\":\n",
        "        return (2 * distancias[2] * gasolina) / km_l\n",
        "    elif ciudad == \"Aracaju\":\n",
        "        return (2 * distancias[3] * gasolina) / km_l\n",
        "\n",
        "def gasto_paseo(ciudad, dias):\n",
        "    if ciudad==\"Salvador\":\n",
        "        return paseo[0] * dias\n",
        "    elif ciudad==\"Fortaleza\":\n",
        "        return paseo[1] * dias\n",
        "    elif ciudad==\"Natal\":\n",
        "        return paseo[2] * dias\n",
        "    elif ciudad==\"Aracaju\":\n",
        "        return paseo[3] * dias\n",
        "\n",
        "gastos = gasto_hotel(dias) + gasto_gasolina(ciudad) + gasto_paseo(ciudad, dias)\n",
        "print(f\"Con base en los gastos definidos, un viaje de {dias} días a {ciudad} desde Recife costaría {round(gastos, 2)} reales\")"
      ],
      "metadata": {
        "colab": {
          "base_uri": "https://localhost:8080/"
        },
        "id": "NGo9zBd6USZi",
        "outputId": "3f978d58-d464-4d9f-eeff-a3d797a18c30"
      },
      "execution_count": 44,
      "outputs": [
        {
          "output_type": "stream",
          "name": "stdout",
          "text": [
            "¿Cuántas diarias? 3\n",
            "¿Cuál es la ciudad? [Salvador, Fortaleza, Natal o Aracaju]: Salvador\n",
            "Con base en los gastos definidos, un viaje de 3 días a Salvador desde Recife costaría 1657.14 reales\n"
          ]
        }
      ]
    },
    {
      "cell_type": "markdown",
      "source": [
        "10 - Has comenzado una pasantía en una empresa que trabaja con procesamiento de lenguaje natural (NLP). Tu líder te solicitó que crees un fragmento de código que reciba una frase escrita por el usuario y filtre solo las palabras con un tamaño mayor o igual a 5, mostrándolas en una lista. Esta demanda se centra en el análisis del patrón de comportamiento de las personas al escribir palabras de esta cantidad de caracteres o más.\n",
        "\n",
        "Consejo: utiliza las funciones lambda y filter() para filtrar estas palabras. Recordando que la función integrada filter() recibe una función (en nuestro caso, una función lambda) y filtra un iterable según la función. Para tratar la frase, utiliza replace() para cambiar ',' '.', '!' y '?' por espacio.\n",
        "\n",
        "Utiliza la frase \"Aprender Python aquí en Alura es muy bueno\" para probar el código."
      ],
      "metadata": {
        "id": "1TCojQRvQZ5B"
      }
    },
    {
      "cell_type": "code",
      "source": [
        "# Solicitando una frase y separándola por espacios. Usando replace para cambiar\n",
        "# puntuaciones por espacios.\n",
        "\n",
        "frase = input(\"Escribe una frase: \")\n",
        "frase = frase.replace(',',' ').replace('.',' ').replace('!',' ').replace('?',' ').split()\n",
        "print(frase)\n",
        "\n",
        "# Filtrando la frase en formato de lista, pasando a la lista tamaño\n",
        "# solo las palabras con 5 o más caracteres e imprimiéndola en pantalla\n",
        "tamano = list(filter(lambda x: len(x) >= 5, frase))\n",
        "print(tamano)"
      ],
      "metadata": {
        "colab": {
          "base_uri": "https://localhost:8080/"
        },
        "id": "Uxn1IJmlCJNX",
        "outputId": "66b61643-7f32-464b-f8f4-1d2aa2afe11a"
      },
      "execution_count": 46,
      "outputs": [
        {
          "output_type": "stream",
          "name": "stdout",
          "text": [
            "Escribe una frase: \"Aprender Python aquí,,,,,en????? Alura es!!!!!muy bueno\"\n",
            "['\"Aprender', 'Python', 'aquí', 'en', 'Alura', 'es', 'muy', 'bueno\"']\n",
            "['\"Aprender', 'Python', 'Alura', 'bueno\"']\n"
          ]
        }
      ]
    }
  ]
}